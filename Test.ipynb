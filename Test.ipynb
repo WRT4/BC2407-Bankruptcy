{
 "cells": [
  {
   "cell_type": "code",
   "execution_count": 1,
   "id": "59fc045b-2adb-4c5e-9090-6c5f8cc55990",
   "metadata": {},
   "outputs": [],
   "source": [
    "# Import the libraries\n",
    "import numpy as np\n",
    "import pandas as pd\n",
    "import matplotlib.pyplot as plt\n",
    "import matplotlib.style\n",
    "import seaborn as sns\n",
    "import tensorflow as tf\n",
    "\n",
    "#To ignore warnings\n",
    "import warnings\n",
    "warnings.filterwarnings('ignore')\n",
    "# Run all commands\n",
    "from IPython.core.interactiveshell import InteractiveShell\n",
    "InteractiveShell.ast_node_interactivity = \"all\"\n",
    "\n",
    "from sklearn.metrics import accuracy_score, precision_score, recall_score, f1_score, classification_report, confusion_matrix\n",
    "from sklearn.model_selection import train_test_split\n",
    "from sklearn.ensemble import RandomForestClassifier\n",
    "from keras.models import Sequential\n",
    "from keras.layers import Dense, Dropout\n",
    "from keras.utils import to_categorical\n",
    "from sklearn.linear_model import LogisticRegression"
   ]
  },
  {
   "cell_type": "code",
   "execution_count": 2,
   "id": "3a6f72ba-fc24-46e7-8436-8975c1f8a739",
   "metadata": {},
   "outputs": [
    {
     "data": {
      "text/html": [
       "<div>\n",
       "<style scoped>\n",
       "    .dataframe tbody tr th:only-of-type {\n",
       "        vertical-align: middle;\n",
       "    }\n",
       "\n",
       "    .dataframe tbody tr th {\n",
       "        vertical-align: top;\n",
       "    }\n",
       "\n",
       "    .dataframe thead th {\n",
       "        text-align: right;\n",
       "    }\n",
       "</style>\n",
       "<table border=\"1\" class=\"dataframe\">\n",
       "  <thead>\n",
       "    <tr style=\"text-align: right;\">\n",
       "      <th></th>\n",
       "      <th>year</th>\n",
       "      <th>X1</th>\n",
       "      <th>X2</th>\n",
       "      <th>X3</th>\n",
       "      <th>X4</th>\n",
       "      <th>X5</th>\n",
       "      <th>X6</th>\n",
       "      <th>X7</th>\n",
       "      <th>X8</th>\n",
       "      <th>X9</th>\n",
       "      <th>X10</th>\n",
       "      <th>X11</th>\n",
       "      <th>X12</th>\n",
       "      <th>X13</th>\n",
       "      <th>X14</th>\n",
       "      <th>X15</th>\n",
       "      <th>X16</th>\n",
       "      <th>X17</th>\n",
       "      <th>X18</th>\n",
       "    </tr>\n",
       "  </thead>\n",
       "  <tbody>\n",
       "    <tr>\n",
       "      <th>count</th>\n",
       "      <td>78682.000000</td>\n",
       "      <td>78682.000000</td>\n",
       "      <td>78682.000000</td>\n",
       "      <td>78682.000000</td>\n",
       "      <td>78682.000000</td>\n",
       "      <td>78682.000000</td>\n",
       "      <td>78682.000000</td>\n",
       "      <td>78682.000000</td>\n",
       "      <td>7.868200e+04</td>\n",
       "      <td>78682.000000</td>\n",
       "      <td>78682.000000</td>\n",
       "      <td>78682.000000</td>\n",
       "      <td>78682.000000</td>\n",
       "      <td>78682.000000</td>\n",
       "      <td>78682.000000</td>\n",
       "      <td>78682.000000</td>\n",
       "      <td>78682.000000</td>\n",
       "      <td>78682.000000</td>\n",
       "      <td>78682.000000</td>\n",
       "    </tr>\n",
       "    <tr>\n",
       "      <th>mean</th>\n",
       "      <td>2007.506317</td>\n",
       "      <td>880.362485</td>\n",
       "      <td>1594.529029</td>\n",
       "      <td>121.234256</td>\n",
       "      <td>376.759424</td>\n",
       "      <td>201.605717</td>\n",
       "      <td>129.382453</td>\n",
       "      <td>286.832743</td>\n",
       "      <td>3.414355e+03</td>\n",
       "      <td>2364.019706</td>\n",
       "      <td>2867.110620</td>\n",
       "      <td>722.483710</td>\n",
       "      <td>255.525035</td>\n",
       "      <td>769.490783</td>\n",
       "      <td>610.072255</td>\n",
       "      <td>532.467069</td>\n",
       "      <td>2364.019706</td>\n",
       "      <td>1773.563963</td>\n",
       "      <td>1987.260307</td>\n",
       "    </tr>\n",
       "    <tr>\n",
       "      <th>std</th>\n",
       "      <td>5.742768</td>\n",
       "      <td>3928.564794</td>\n",
       "      <td>8930.484664</td>\n",
       "      <td>652.376804</td>\n",
       "      <td>2012.023142</td>\n",
       "      <td>1060.766096</td>\n",
       "      <td>1265.532022</td>\n",
       "      <td>1335.978571</td>\n",
       "      <td>1.841410e+04</td>\n",
       "      <td>11950.068842</td>\n",
       "      <td>12917.944421</td>\n",
       "      <td>3242.170946</td>\n",
       "      <td>1494.643534</td>\n",
       "      <td>3774.703114</td>\n",
       "      <td>2938.387443</td>\n",
       "      <td>6369.159440</td>\n",
       "      <td>11950.068842</td>\n",
       "      <td>8053.684902</td>\n",
       "      <td>10419.629038</td>\n",
       "    </tr>\n",
       "    <tr>\n",
       "      <th>min</th>\n",
       "      <td>1999.000000</td>\n",
       "      <td>-7.760000</td>\n",
       "      <td>-366.645000</td>\n",
       "      <td>0.000000</td>\n",
       "      <td>-21913.000000</td>\n",
       "      <td>0.000000</td>\n",
       "      <td>-98696.000000</td>\n",
       "      <td>-0.006000</td>\n",
       "      <td>1.000000e-04</td>\n",
       "      <td>-1964.999000</td>\n",
       "      <td>0.001000</td>\n",
       "      <td>-0.023000</td>\n",
       "      <td>-25913.000000</td>\n",
       "      <td>-21536.000000</td>\n",
       "      <td>0.001000</td>\n",
       "      <td>-102362.000000</td>\n",
       "      <td>-1964.999000</td>\n",
       "      <td>0.001000</td>\n",
       "      <td>-317.197000</td>\n",
       "    </tr>\n",
       "    <tr>\n",
       "      <th>25%</th>\n",
       "      <td>2002.000000</td>\n",
       "      <td>18.924000</td>\n",
       "      <td>17.038250</td>\n",
       "      <td>1.192000</td>\n",
       "      <td>-0.811000</td>\n",
       "      <td>0.000000</td>\n",
       "      <td>-7.415750</td>\n",
       "      <td>3.281250</td>\n",
       "      <td>3.498000e+01</td>\n",
       "      <td>27.548500</td>\n",
       "      <td>37.363500</td>\n",
       "      <td>0.000000</td>\n",
       "      <td>-2.787000</td>\n",
       "      <td>8.521250</td>\n",
       "      <td>8.889250</td>\n",
       "      <td>-68.282750</td>\n",
       "      <td>27.548500</td>\n",
       "      <td>13.486000</td>\n",
       "      <td>32.872500</td>\n",
       "    </tr>\n",
       "    <tr>\n",
       "      <th>50%</th>\n",
       "      <td>2007.000000</td>\n",
       "      <td>100.449500</td>\n",
       "      <td>103.661000</td>\n",
       "      <td>7.929500</td>\n",
       "      <td>15.034500</td>\n",
       "      <td>7.023000</td>\n",
       "      <td>1.616000</td>\n",
       "      <td>22.820000</td>\n",
       "      <td>2.275118e+02</td>\n",
       "      <td>186.598500</td>\n",
       "      <td>213.203500</td>\n",
       "      <td>7.593500</td>\n",
       "      <td>6.518000</td>\n",
       "      <td>63.581500</td>\n",
       "      <td>43.333000</td>\n",
       "      <td>-1.131000</td>\n",
       "      <td>186.598500</td>\n",
       "      <td>81.988000</td>\n",
       "      <td>168.912000</td>\n",
       "    </tr>\n",
       "    <tr>\n",
       "      <th>75%</th>\n",
       "      <td>2012.000000</td>\n",
       "      <td>431.526750</td>\n",
       "      <td>634.548000</td>\n",
       "      <td>47.971750</td>\n",
       "      <td>139.655250</td>\n",
       "      <td>74.747250</td>\n",
       "      <td>40.144250</td>\n",
       "      <td>131.580500</td>\n",
       "      <td>1.244890e+03</td>\n",
       "      <td>1046.402500</td>\n",
       "      <td>1171.364750</td>\n",
       "      <td>248.760750</td>\n",
       "      <td>87.599000</td>\n",
       "      <td>344.074250</td>\n",
       "      <td>222.817000</td>\n",
       "      <td>146.070000</td>\n",
       "      <td>1046.402500</td>\n",
       "      <td>629.975000</td>\n",
       "      <td>875.522250</td>\n",
       "    </tr>\n",
       "    <tr>\n",
       "      <th>max</th>\n",
       "      <td>2018.000000</td>\n",
       "      <td>169662.000000</td>\n",
       "      <td>374623.000000</td>\n",
       "      <td>28430.000000</td>\n",
       "      <td>81730.000000</td>\n",
       "      <td>62567.000000</td>\n",
       "      <td>104821.000000</td>\n",
       "      <td>65812.000000</td>\n",
       "      <td>1.073391e+06</td>\n",
       "      <td>511729.000000</td>\n",
       "      <td>531864.000000</td>\n",
       "      <td>166250.000000</td>\n",
       "      <td>71230.000000</td>\n",
       "      <td>137106.000000</td>\n",
       "      <td>116866.000000</td>\n",
       "      <td>402089.000000</td>\n",
       "      <td>511729.000000</td>\n",
       "      <td>337980.000000</td>\n",
       "      <td>481580.000000</td>\n",
       "    </tr>\n",
       "  </tbody>\n",
       "</table>\n",
       "</div>"
      ],
      "text/plain": [
       "               year             X1             X2            X3            X4  \\\n",
       "count  78682.000000   78682.000000   78682.000000  78682.000000  78682.000000   \n",
       "mean    2007.506317     880.362485    1594.529029    121.234256    376.759424   \n",
       "std        5.742768    3928.564794    8930.484664    652.376804   2012.023142   \n",
       "min     1999.000000      -7.760000    -366.645000      0.000000 -21913.000000   \n",
       "25%     2002.000000      18.924000      17.038250      1.192000     -0.811000   \n",
       "50%     2007.000000     100.449500     103.661000      7.929500     15.034500   \n",
       "75%     2012.000000     431.526750     634.548000     47.971750    139.655250   \n",
       "max     2018.000000  169662.000000  374623.000000  28430.000000  81730.000000   \n",
       "\n",
       "                 X5             X6            X7            X8             X9  \\\n",
       "count  78682.000000   78682.000000  78682.000000  7.868200e+04   78682.000000   \n",
       "mean     201.605717     129.382453    286.832743  3.414355e+03    2364.019706   \n",
       "std     1060.766096    1265.532022   1335.978571  1.841410e+04   11950.068842   \n",
       "min        0.000000  -98696.000000     -0.006000  1.000000e-04   -1964.999000   \n",
       "25%        0.000000      -7.415750      3.281250  3.498000e+01      27.548500   \n",
       "50%        7.023000       1.616000     22.820000  2.275118e+02     186.598500   \n",
       "75%       74.747250      40.144250    131.580500  1.244890e+03    1046.402500   \n",
       "max    62567.000000  104821.000000  65812.000000  1.073391e+06  511729.000000   \n",
       "\n",
       "                 X10            X11           X12            X13  \\\n",
       "count   78682.000000   78682.000000  78682.000000   78682.000000   \n",
       "mean     2867.110620     722.483710    255.525035     769.490783   \n",
       "std     12917.944421    3242.170946   1494.643534    3774.703114   \n",
       "min         0.001000      -0.023000 -25913.000000  -21536.000000   \n",
       "25%        37.363500       0.000000     -2.787000       8.521250   \n",
       "50%       213.203500       7.593500      6.518000      63.581500   \n",
       "75%      1171.364750     248.760750     87.599000     344.074250   \n",
       "max    531864.000000  166250.000000  71230.000000  137106.000000   \n",
       "\n",
       "                 X14            X15            X16            X17  \\\n",
       "count   78682.000000   78682.000000   78682.000000   78682.000000   \n",
       "mean      610.072255     532.467069    2364.019706    1773.563963   \n",
       "std      2938.387443    6369.159440   11950.068842    8053.684902   \n",
       "min         0.001000 -102362.000000   -1964.999000       0.001000   \n",
       "25%         8.889250     -68.282750      27.548500      13.486000   \n",
       "50%        43.333000      -1.131000     186.598500      81.988000   \n",
       "75%       222.817000     146.070000    1046.402500     629.975000   \n",
       "max    116866.000000  402089.000000  511729.000000  337980.000000   \n",
       "\n",
       "                 X18  \n",
       "count   78682.000000  \n",
       "mean     1987.260307  \n",
       "std     10419.629038  \n",
       "min      -317.197000  \n",
       "25%        32.872500  \n",
       "50%       168.912000  \n",
       "75%       875.522250  \n",
       "max    481580.000000  "
      ]
     },
     "execution_count": 2,
     "metadata": {},
     "output_type": "execute_result"
    },
    {
     "data": {
      "text/html": [
       "<div>\n",
       "<style scoped>\n",
       "    .dataframe tbody tr th:only-of-type {\n",
       "        vertical-align: middle;\n",
       "    }\n",
       "\n",
       "    .dataframe tbody tr th {\n",
       "        vertical-align: top;\n",
       "    }\n",
       "\n",
       "    .dataframe thead th {\n",
       "        text-align: right;\n",
       "    }\n",
       "</style>\n",
       "<table border=\"1\" class=\"dataframe\">\n",
       "  <thead>\n",
       "    <tr style=\"text-align: right;\">\n",
       "      <th></th>\n",
       "      <th>company_name</th>\n",
       "      <th>status_label</th>\n",
       "      <th>year</th>\n",
       "      <th>X1</th>\n",
       "      <th>X2</th>\n",
       "      <th>X3</th>\n",
       "      <th>X4</th>\n",
       "      <th>X5</th>\n",
       "      <th>X6</th>\n",
       "      <th>X7</th>\n",
       "      <th>...</th>\n",
       "      <th>X9</th>\n",
       "      <th>X10</th>\n",
       "      <th>X11</th>\n",
       "      <th>X12</th>\n",
       "      <th>X13</th>\n",
       "      <th>X14</th>\n",
       "      <th>X15</th>\n",
       "      <th>X16</th>\n",
       "      <th>X17</th>\n",
       "      <th>X18</th>\n",
       "    </tr>\n",
       "  </thead>\n",
       "  <tbody>\n",
       "    <tr>\n",
       "      <th>0</th>\n",
       "      <td>C_1</td>\n",
       "      <td>alive</td>\n",
       "      <td>1999</td>\n",
       "      <td>511.267</td>\n",
       "      <td>833.107</td>\n",
       "      <td>18.373</td>\n",
       "      <td>89.031</td>\n",
       "      <td>336.018</td>\n",
       "      <td>35.163</td>\n",
       "      <td>128.348</td>\n",
       "      <td>...</td>\n",
       "      <td>1024.333</td>\n",
       "      <td>740.998</td>\n",
       "      <td>180.447</td>\n",
       "      <td>70.658</td>\n",
       "      <td>191.226</td>\n",
       "      <td>163.816</td>\n",
       "      <td>201.026</td>\n",
       "      <td>1024.333</td>\n",
       "      <td>401.483</td>\n",
       "      <td>935.302</td>\n",
       "    </tr>\n",
       "    <tr>\n",
       "      <th>1</th>\n",
       "      <td>C_1</td>\n",
       "      <td>alive</td>\n",
       "      <td>2000</td>\n",
       "      <td>485.856</td>\n",
       "      <td>713.811</td>\n",
       "      <td>18.577</td>\n",
       "      <td>64.367</td>\n",
       "      <td>320.590</td>\n",
       "      <td>18.531</td>\n",
       "      <td>115.187</td>\n",
       "      <td>...</td>\n",
       "      <td>874.255</td>\n",
       "      <td>701.854</td>\n",
       "      <td>179.987</td>\n",
       "      <td>45.790</td>\n",
       "      <td>160.444</td>\n",
       "      <td>125.392</td>\n",
       "      <td>204.065</td>\n",
       "      <td>874.255</td>\n",
       "      <td>361.642</td>\n",
       "      <td>809.888</td>\n",
       "    </tr>\n",
       "    <tr>\n",
       "      <th>2</th>\n",
       "      <td>C_1</td>\n",
       "      <td>alive</td>\n",
       "      <td>2001</td>\n",
       "      <td>436.656</td>\n",
       "      <td>526.477</td>\n",
       "      <td>22.496</td>\n",
       "      <td>27.207</td>\n",
       "      <td>286.588</td>\n",
       "      <td>-58.939</td>\n",
       "      <td>77.528</td>\n",
       "      <td>...</td>\n",
       "      <td>638.721</td>\n",
       "      <td>710.199</td>\n",
       "      <td>217.699</td>\n",
       "      <td>4.711</td>\n",
       "      <td>112.244</td>\n",
       "      <td>150.464</td>\n",
       "      <td>139.603</td>\n",
       "      <td>638.721</td>\n",
       "      <td>399.964</td>\n",
       "      <td>611.514</td>\n",
       "    </tr>\n",
       "    <tr>\n",
       "      <th>3</th>\n",
       "      <td>C_1</td>\n",
       "      <td>alive</td>\n",
       "      <td>2002</td>\n",
       "      <td>396.412</td>\n",
       "      <td>496.747</td>\n",
       "      <td>27.172</td>\n",
       "      <td>30.745</td>\n",
       "      <td>259.954</td>\n",
       "      <td>-12.410</td>\n",
       "      <td>66.322</td>\n",
       "      <td>...</td>\n",
       "      <td>606.337</td>\n",
       "      <td>686.621</td>\n",
       "      <td>164.658</td>\n",
       "      <td>3.573</td>\n",
       "      <td>109.590</td>\n",
       "      <td>203.575</td>\n",
       "      <td>124.106</td>\n",
       "      <td>606.337</td>\n",
       "      <td>391.633</td>\n",
       "      <td>575.592</td>\n",
       "    </tr>\n",
       "    <tr>\n",
       "      <th>4</th>\n",
       "      <td>C_1</td>\n",
       "      <td>alive</td>\n",
       "      <td>2003</td>\n",
       "      <td>432.204</td>\n",
       "      <td>523.302</td>\n",
       "      <td>26.680</td>\n",
       "      <td>47.491</td>\n",
       "      <td>247.245</td>\n",
       "      <td>3.504</td>\n",
       "      <td>104.661</td>\n",
       "      <td>...</td>\n",
       "      <td>651.958</td>\n",
       "      <td>709.292</td>\n",
       "      <td>248.666</td>\n",
       "      <td>20.811</td>\n",
       "      <td>128.656</td>\n",
       "      <td>131.261</td>\n",
       "      <td>131.884</td>\n",
       "      <td>651.958</td>\n",
       "      <td>407.608</td>\n",
       "      <td>604.467</td>\n",
       "    </tr>\n",
       "  </tbody>\n",
       "</table>\n",
       "<p>5 rows × 21 columns</p>\n",
       "</div>"
      ],
      "text/plain": [
       "  company_name status_label  year       X1       X2      X3      X4       X5  \\\n",
       "0          C_1        alive  1999  511.267  833.107  18.373  89.031  336.018   \n",
       "1          C_1        alive  2000  485.856  713.811  18.577  64.367  320.590   \n",
       "2          C_1        alive  2001  436.656  526.477  22.496  27.207  286.588   \n",
       "3          C_1        alive  2002  396.412  496.747  27.172  30.745  259.954   \n",
       "4          C_1        alive  2003  432.204  523.302  26.680  47.491  247.245   \n",
       "\n",
       "       X6       X7  ...        X9      X10      X11     X12      X13      X14  \\\n",
       "0  35.163  128.348  ...  1024.333  740.998  180.447  70.658  191.226  163.816   \n",
       "1  18.531  115.187  ...   874.255  701.854  179.987  45.790  160.444  125.392   \n",
       "2 -58.939   77.528  ...   638.721  710.199  217.699   4.711  112.244  150.464   \n",
       "3 -12.410   66.322  ...   606.337  686.621  164.658   3.573  109.590  203.575   \n",
       "4   3.504  104.661  ...   651.958  709.292  248.666  20.811  128.656  131.261   \n",
       "\n",
       "       X15       X16      X17      X18  \n",
       "0  201.026  1024.333  401.483  935.302  \n",
       "1  204.065   874.255  361.642  809.888  \n",
       "2  139.603   638.721  399.964  611.514  \n",
       "3  124.106   606.337  391.633  575.592  \n",
       "4  131.884   651.958  407.608  604.467  \n",
       "\n",
       "[5 rows x 21 columns]"
      ]
     },
     "execution_count": 2,
     "metadata": {},
     "output_type": "execute_result"
    },
    {
     "name": "stdout",
     "output_type": "stream",
     "text": [
      "<class 'pandas.core.frame.DataFrame'>\n",
      "RangeIndex: 78682 entries, 0 to 78681\n",
      "Data columns (total 21 columns):\n",
      " #   Column        Non-Null Count  Dtype  \n",
      "---  ------        --------------  -----  \n",
      " 0   company_name  78682 non-null  object \n",
      " 1   status_label  78682 non-null  object \n",
      " 2   year          78682 non-null  int64  \n",
      " 3   X1            78682 non-null  float64\n",
      " 4   X2            78682 non-null  float64\n",
      " 5   X3            78682 non-null  float64\n",
      " 6   X4            78682 non-null  float64\n",
      " 7   X5            78682 non-null  float64\n",
      " 8   X6            78682 non-null  float64\n",
      " 9   X7            78682 non-null  float64\n",
      " 10  X8            78682 non-null  float64\n",
      " 11  X9            78682 non-null  float64\n",
      " 12  X10           78682 non-null  float64\n",
      " 13  X11           78682 non-null  float64\n",
      " 14  X12           78682 non-null  float64\n",
      " 15  X13           78682 non-null  float64\n",
      " 16  X14           78682 non-null  float64\n",
      " 17  X15           78682 non-null  float64\n",
      " 18  X16           78682 non-null  float64\n",
      " 19  X17           78682 non-null  float64\n",
      " 20  X18           78682 non-null  float64\n",
      "dtypes: float64(18), int64(1), object(2)\n",
      "memory usage: 12.6+ MB\n",
      "Duplicates: 0\n",
      "NULLS: 0\n",
      "NAs: 0\n"
     ]
    }
   ],
   "source": [
    "df = pd.read_csv(\"american_bankruptcy.csv\")\n",
    "df.describe()\n",
    "df.head()\n",
    "df.info()\n",
    "print(\"Duplicates:\", df.duplicated().sum())\n",
    "print(\"NULLS:\", df.isnull().sum().sum())\n",
    "print(\"NAs:\", df.isna().sum().sum())"
   ]
  },
  {
   "cell_type": "code",
   "execution_count": 3,
   "id": "009119b8-8ab7-4403-967d-ebcdf50c3a2d",
   "metadata": {},
   "outputs": [
    {
     "name": "stdout",
     "output_type": "stream",
     "text": [
      "status_label\n",
      "alive     73462\n",
      "failed     5220\n",
      "Name: count, dtype: int64\n"
     ]
    }
   ],
   "source": [
    "print(df['status_label'].value_counts())"
   ]
  },
  {
   "cell_type": "markdown",
   "id": "a345e706-b753-4f90-9204-cec43f0332fa",
   "metadata": {},
   "source": [
    "# Balancing dataset"
   ]
  },
  {
   "cell_type": "code",
   "execution_count": 4,
   "id": "55b8e9eb-ec99-4eef-bf6d-cb15846005db",
   "metadata": {},
   "outputs": [
    {
     "data": {
      "text/html": [
       "<div>\n",
       "<style scoped>\n",
       "    .dataframe tbody tr th:only-of-type {\n",
       "        vertical-align: middle;\n",
       "    }\n",
       "\n",
       "    .dataframe tbody tr th {\n",
       "        vertical-align: top;\n",
       "    }\n",
       "\n",
       "    .dataframe thead th {\n",
       "        text-align: right;\n",
       "    }\n",
       "</style>\n",
       "<table border=\"1\" class=\"dataframe\">\n",
       "  <thead>\n",
       "    <tr style=\"text-align: right;\">\n",
       "      <th></th>\n",
       "      <th>company_name</th>\n",
       "      <th>status_label</th>\n",
       "      <th>year</th>\n",
       "      <th>X1</th>\n",
       "      <th>X2</th>\n",
       "      <th>X3</th>\n",
       "      <th>X4</th>\n",
       "      <th>X5</th>\n",
       "      <th>X6</th>\n",
       "      <th>X7</th>\n",
       "      <th>...</th>\n",
       "      <th>X9</th>\n",
       "      <th>X10</th>\n",
       "      <th>X11</th>\n",
       "      <th>X12</th>\n",
       "      <th>X13</th>\n",
       "      <th>X14</th>\n",
       "      <th>X15</th>\n",
       "      <th>X16</th>\n",
       "      <th>X17</th>\n",
       "      <th>X18</th>\n",
       "    </tr>\n",
       "  </thead>\n",
       "  <tbody>\n",
       "    <tr>\n",
       "      <th>33494</th>\n",
       "      <td>C_3355</td>\n",
       "      <td>alive</td>\n",
       "      <td>1999</td>\n",
       "      <td>16.952</td>\n",
       "      <td>38.518</td>\n",
       "      <td>0.566</td>\n",
       "      <td>8.067</td>\n",
       "      <td>9.895</td>\n",
       "      <td>4.478</td>\n",
       "      <td>3.751</td>\n",
       "      <td>...</td>\n",
       "      <td>72.303</td>\n",
       "      <td>28.709</td>\n",
       "      <td>0.903</td>\n",
       "      <td>7.501</td>\n",
       "      <td>33.785</td>\n",
       "      <td>7.955</td>\n",
       "      <td>7.236</td>\n",
       "      <td>72.303</td>\n",
       "      <td>10.083</td>\n",
       "      <td>64.236</td>\n",
       "    </tr>\n",
       "    <tr>\n",
       "      <th>53927</th>\n",
       "      <td>C_5731</td>\n",
       "      <td>alive</td>\n",
       "      <td>2008</td>\n",
       "      <td>254.591</td>\n",
       "      <td>553.021</td>\n",
       "      <td>26.399</td>\n",
       "      <td>63.114</td>\n",
       "      <td>54.800</td>\n",
       "      <td>-97.527</td>\n",
       "      <td>96.535</td>\n",
       "      <td>...</td>\n",
       "      <td>752.698</td>\n",
       "      <td>382.437</td>\n",
       "      <td>183.000</td>\n",
       "      <td>36.715</td>\n",
       "      <td>199.677</td>\n",
       "      <td>94.204</td>\n",
       "      <td>-66.152</td>\n",
       "      <td>752.698</td>\n",
       "      <td>290.679</td>\n",
       "      <td>689.584</td>\n",
       "    </tr>\n",
       "    <tr>\n",
       "      <th>59602</th>\n",
       "      <td>C_6385</td>\n",
       "      <td>alive</td>\n",
       "      <td>2003</td>\n",
       "      <td>5.729</td>\n",
       "      <td>1.979</td>\n",
       "      <td>2.503</td>\n",
       "      <td>1.254</td>\n",
       "      <td>0.000</td>\n",
       "      <td>-2.167</td>\n",
       "      <td>1.430</td>\n",
       "      <td>...</td>\n",
       "      <td>14.319</td>\n",
       "      <td>19.145</td>\n",
       "      <td>0.000</td>\n",
       "      <td>-1.249</td>\n",
       "      <td>12.340</td>\n",
       "      <td>5.027</td>\n",
       "      <td>-44.144</td>\n",
       "      <td>14.319</td>\n",
       "      <td>5.130</td>\n",
       "      <td>13.065</td>\n",
       "    </tr>\n",
       "    <tr>\n",
       "      <th>56036</th>\n",
       "      <td>C_5979</td>\n",
       "      <td>alive</td>\n",
       "      <td>1999</td>\n",
       "      <td>0.343</td>\n",
       "      <td>0.314</td>\n",
       "      <td>0.152</td>\n",
       "      <td>0.294</td>\n",
       "      <td>0.000</td>\n",
       "      <td>0.065</td>\n",
       "      <td>0.220</td>\n",
       "      <td>...</td>\n",
       "      <td>0.918</td>\n",
       "      <td>2.550</td>\n",
       "      <td>0.560</td>\n",
       "      <td>0.142</td>\n",
       "      <td>0.604</td>\n",
       "      <td>0.571</td>\n",
       "      <td>0.163</td>\n",
       "      <td>0.918</td>\n",
       "      <td>1.147</td>\n",
       "      <td>0.624</td>\n",
       "    </tr>\n",
       "    <tr>\n",
       "      <th>13527</th>\n",
       "      <td>C_1123</td>\n",
       "      <td>alive</td>\n",
       "      <td>2008</td>\n",
       "      <td>347.365</td>\n",
       "      <td>255.642</td>\n",
       "      <td>18.900</td>\n",
       "      <td>25.694</td>\n",
       "      <td>98.833</td>\n",
       "      <td>-140.939</td>\n",
       "      <td>81.868</td>\n",
       "      <td>...</td>\n",
       "      <td>445.336</td>\n",
       "      <td>519.171</td>\n",
       "      <td>151.527</td>\n",
       "      <td>6.794</td>\n",
       "      <td>189.694</td>\n",
       "      <td>89.810</td>\n",
       "      <td>-134.082</td>\n",
       "      <td>445.336</td>\n",
       "      <td>268.583</td>\n",
       "      <td>419.642</td>\n",
       "    </tr>\n",
       "  </tbody>\n",
       "</table>\n",
       "<p>5 rows × 21 columns</p>\n",
       "</div>"
      ],
      "text/plain": [
       "      company_name status_label  year       X1       X2      X3      X4  \\\n",
       "33494       C_3355        alive  1999   16.952   38.518   0.566   8.067   \n",
       "53927       C_5731        alive  2008  254.591  553.021  26.399  63.114   \n",
       "59602       C_6385        alive  2003    5.729    1.979   2.503   1.254   \n",
       "56036       C_5979        alive  1999    0.343    0.314   0.152   0.294   \n",
       "13527       C_1123        alive  2008  347.365  255.642  18.900  25.694   \n",
       "\n",
       "           X5       X6      X7  ...       X9      X10      X11     X12  \\\n",
       "33494   9.895    4.478   3.751  ...   72.303   28.709    0.903   7.501   \n",
       "53927  54.800  -97.527  96.535  ...  752.698  382.437  183.000  36.715   \n",
       "59602   0.000   -2.167   1.430  ...   14.319   19.145    0.000  -1.249   \n",
       "56036   0.000    0.065   0.220  ...    0.918    2.550    0.560   0.142   \n",
       "13527  98.833 -140.939  81.868  ...  445.336  519.171  151.527   6.794   \n",
       "\n",
       "           X13     X14      X15      X16      X17      X18  \n",
       "33494   33.785   7.955    7.236   72.303   10.083   64.236  \n",
       "53927  199.677  94.204  -66.152  752.698  290.679  689.584  \n",
       "59602   12.340   5.027  -44.144   14.319    5.130   13.065  \n",
       "56036    0.604   0.571    0.163    0.918    1.147    0.624  \n",
       "13527  189.694  89.810 -134.082  445.336  268.583  419.642  \n",
       "\n",
       "[5 rows x 21 columns]"
      ]
     },
     "execution_count": 4,
     "metadata": {},
     "output_type": "execute_result"
    },
    {
     "name": "stdout",
     "output_type": "stream",
     "text": [
      "<class 'pandas.core.frame.DataFrame'>\n",
      "Index: 10440 entries, 33494 to 78624\n",
      "Data columns (total 21 columns):\n",
      " #   Column        Non-Null Count  Dtype  \n",
      "---  ------        --------------  -----  \n",
      " 0   company_name  10440 non-null  object \n",
      " 1   status_label  10440 non-null  object \n",
      " 2   year          10440 non-null  int64  \n",
      " 3   X1            10440 non-null  float64\n",
      " 4   X2            10440 non-null  float64\n",
      " 5   X3            10440 non-null  float64\n",
      " 6   X4            10440 non-null  float64\n",
      " 7   X5            10440 non-null  float64\n",
      " 8   X6            10440 non-null  float64\n",
      " 9   X7            10440 non-null  float64\n",
      " 10  X8            10440 non-null  float64\n",
      " 11  X9            10440 non-null  float64\n",
      " 12  X10           10440 non-null  float64\n",
      " 13  X11           10440 non-null  float64\n",
      " 14  X12           10440 non-null  float64\n",
      " 15  X13           10440 non-null  float64\n",
      " 16  X14           10440 non-null  float64\n",
      " 17  X15           10440 non-null  float64\n",
      " 18  X16           10440 non-null  float64\n",
      " 19  X17           10440 non-null  float64\n",
      " 20  X18           10440 non-null  float64\n",
      "dtypes: float64(18), int64(1), object(2)\n",
      "memory usage: 1.8+ MB\n"
     ]
    }
   ],
   "source": [
    "from sklearn.utils import resample\n",
    "\n",
    "df_majority = df[df.status_label == \"alive\"]\n",
    "df_minority = df[df.status_label == \"failed\"]\n",
    "\n",
    "# Downsample majority class\n",
    "df_majority_downsampled = resample(\n",
    "    df_majority, \n",
    "    replace=False, \n",
    "    n_samples=len(df_minority), \n",
    "    random_state=42\n",
    ")\n",
    "\n",
    "df_balanced = pd.concat([df_majority_downsampled, df_minority])\n",
    "df_balanced.head()\n",
    "df_balanced.info()"
   ]
  },
  {
   "cell_type": "code",
   "execution_count": 5,
   "id": "f152ec3a-32f2-4d6c-9695-fca697c52123",
   "metadata": {},
   "outputs": [
    {
     "name": "stdout",
     "output_type": "stream",
     "text": [
      "X_train shape: (8352, 19)\n",
      "X_test shape: (2088, 19)\n",
      "y_train shape: (8352,)\n",
      "y_test shape: (2088,)\n"
     ]
    }
   ],
   "source": [
    "X = df_balanced.drop(columns=[\"status_label\", \"company_name\"])  # Features (all columns except status_label)\n",
    "y = df_balanced[\"status_label\"]  # Target column\n",
    "\n",
    "# Split the data: 80% train, 20% test\n",
    "X_train, X_test, y_train, y_test = train_test_split(X, y, test_size=0.2, random_state=99)\n",
    "\n",
    "print(\"X_train shape:\", X_train.shape)\n",
    "print(\"X_test shape:\", X_test.shape)\n",
    "print(\"y_train shape:\", y_train.shape)\n",
    "print(\"y_test shape:\", y_test.shape)"
   ]
  },
  {
   "cell_type": "markdown",
   "id": "ed884844-4665-4893-a486-48c6001bca68",
   "metadata": {},
   "source": [
    "## Random Forest"
   ]
  },
  {
   "cell_type": "code",
   "execution_count": 6,
   "id": "6a3bfb70-8e24-4f2d-90a3-6404152334a8",
   "metadata": {},
   "outputs": [
    {
     "data": {
      "text/html": [
       "<style>#sk-container-id-1 {color: black;background-color: white;}#sk-container-id-1 pre{padding: 0;}#sk-container-id-1 div.sk-toggleable {background-color: white;}#sk-container-id-1 label.sk-toggleable__label {cursor: pointer;display: block;width: 100%;margin-bottom: 0;padding: 0.3em;box-sizing: border-box;text-align: center;}#sk-container-id-1 label.sk-toggleable__label-arrow:before {content: \"▸\";float: left;margin-right: 0.25em;color: #696969;}#sk-container-id-1 label.sk-toggleable__label-arrow:hover:before {color: black;}#sk-container-id-1 div.sk-estimator:hover label.sk-toggleable__label-arrow:before {color: black;}#sk-container-id-1 div.sk-toggleable__content {max-height: 0;max-width: 0;overflow: hidden;text-align: left;background-color: #f0f8ff;}#sk-container-id-1 div.sk-toggleable__content pre {margin: 0.2em;color: black;border-radius: 0.25em;background-color: #f0f8ff;}#sk-container-id-1 input.sk-toggleable__control:checked~div.sk-toggleable__content {max-height: 200px;max-width: 100%;overflow: auto;}#sk-container-id-1 input.sk-toggleable__control:checked~label.sk-toggleable__label-arrow:before {content: \"▾\";}#sk-container-id-1 div.sk-estimator input.sk-toggleable__control:checked~label.sk-toggleable__label {background-color: #d4ebff;}#sk-container-id-1 div.sk-label input.sk-toggleable__control:checked~label.sk-toggleable__label {background-color: #d4ebff;}#sk-container-id-1 input.sk-hidden--visually {border: 0;clip: rect(1px 1px 1px 1px);clip: rect(1px, 1px, 1px, 1px);height: 1px;margin: -1px;overflow: hidden;padding: 0;position: absolute;width: 1px;}#sk-container-id-1 div.sk-estimator {font-family: monospace;background-color: #f0f8ff;border: 1px dotted black;border-radius: 0.25em;box-sizing: border-box;margin-bottom: 0.5em;}#sk-container-id-1 div.sk-estimator:hover {background-color: #d4ebff;}#sk-container-id-1 div.sk-parallel-item::after {content: \"\";width: 100%;border-bottom: 1px solid gray;flex-grow: 1;}#sk-container-id-1 div.sk-label:hover label.sk-toggleable__label {background-color: #d4ebff;}#sk-container-id-1 div.sk-serial::before {content: \"\";position: absolute;border-left: 1px solid gray;box-sizing: border-box;top: 0;bottom: 0;left: 50%;z-index: 0;}#sk-container-id-1 div.sk-serial {display: flex;flex-direction: column;align-items: center;background-color: white;padding-right: 0.2em;padding-left: 0.2em;position: relative;}#sk-container-id-1 div.sk-item {position: relative;z-index: 1;}#sk-container-id-1 div.sk-parallel {display: flex;align-items: stretch;justify-content: center;background-color: white;position: relative;}#sk-container-id-1 div.sk-item::before, #sk-container-id-1 div.sk-parallel-item::before {content: \"\";position: absolute;border-left: 1px solid gray;box-sizing: border-box;top: 0;bottom: 0;left: 50%;z-index: -1;}#sk-container-id-1 div.sk-parallel-item {display: flex;flex-direction: column;z-index: 1;position: relative;background-color: white;}#sk-container-id-1 div.sk-parallel-item:first-child::after {align-self: flex-end;width: 50%;}#sk-container-id-1 div.sk-parallel-item:last-child::after {align-self: flex-start;width: 50%;}#sk-container-id-1 div.sk-parallel-item:only-child::after {width: 0;}#sk-container-id-1 div.sk-dashed-wrapped {border: 1px dashed gray;margin: 0 0.4em 0.5em 0.4em;box-sizing: border-box;padding-bottom: 0.4em;background-color: white;}#sk-container-id-1 div.sk-label label {font-family: monospace;font-weight: bold;display: inline-block;line-height: 1.2em;}#sk-container-id-1 div.sk-label-container {text-align: center;}#sk-container-id-1 div.sk-container {/* jupyter's `normalize.less` sets `[hidden] { display: none; }` but bootstrap.min.css set `[hidden] { display: none !important; }` so we also need the `!important` here to be able to override the default hidden behavior on the sphinx rendered scikit-learn.org. See: https://github.com/scikit-learn/scikit-learn/issues/21755 */display: inline-block !important;position: relative;}#sk-container-id-1 div.sk-text-repr-fallback {display: none;}</style><div id=\"sk-container-id-1\" class=\"sk-top-container\"><div class=\"sk-text-repr-fallback\"><pre>RandomForestClassifier()</pre><b>In a Jupyter environment, please rerun this cell to show the HTML representation or trust the notebook. <br />On GitHub, the HTML representation is unable to render, please try loading this page with nbviewer.org.</b></div><div class=\"sk-container\" hidden><div class=\"sk-item\"><div class=\"sk-estimator sk-toggleable\"><input class=\"sk-toggleable__control sk-hidden--visually\" id=\"sk-estimator-id-1\" type=\"checkbox\" checked><label for=\"sk-estimator-id-1\" class=\"sk-toggleable__label sk-toggleable__label-arrow\">RandomForestClassifier</label><div class=\"sk-toggleable__content\"><pre>RandomForestClassifier()</pre></div></div></div></div></div>"
      ],
      "text/plain": [
       "RandomForestClassifier()"
      ]
     },
     "execution_count": 6,
     "metadata": {},
     "output_type": "execute_result"
    },
    {
     "name": "stdout",
     "output_type": "stream",
     "text": [
      "Accuracy on train set: 1.0\n",
      "Accuracy on test set: 0.7725095785440613\n",
      "\n",
      "Classification Report on test set:\n",
      "              precision    recall  f1-score   support\n",
      "\n",
      "       alive       0.80      0.74      0.77      1052\n",
      "      failed       0.75      0.81      0.78      1036\n",
      "\n",
      "    accuracy                           0.77      2088\n",
      "   macro avg       0.77      0.77      0.77      2088\n",
      "weighted avg       0.77      0.77      0.77      2088\n",
      "\n"
     ]
    },
    {
     "data": {
      "text/plain": [
       "<Axes: >"
      ]
     },
     "execution_count": 6,
     "metadata": {},
     "output_type": "execute_result"
    },
    {
     "data": {
      "text/plain": [
       "<Axes: >"
      ]
     },
     "execution_count": 6,
     "metadata": {},
     "output_type": "execute_result"
    },
    {
     "data": {
      "image/png": "[encoded data removed]",
      "text/plain": [
       "<Figure size 1200x400 with 4 Axes>"
      ]
     },
     "metadata": {},
     "output_type": "display_data"
    }
   ],
   "source": [
    "rf = RandomForestClassifier()\n",
    "rf.fit(X_train, y_train)\n",
    "\n",
    "# Predict labels for train set\n",
    "y_train_pred = rf.predict(X_train)\n",
    "\n",
    "# Predict labels for test set\n",
    "y_test_pred = rf.predict(X_test)\n",
    "\n",
    "# Evaluate the classifier\n",
    "accuracy = accuracy_score(y_train, y_train_pred)\n",
    "print(\"Accuracy on train set:\", accuracy)\n",
    "\n",
    "accuracy = accuracy_score(y_test, y_test_pred)\n",
    "print(\"Accuracy on test set:\", accuracy)\n",
    "\n",
    "print(\"\\nClassification Report on test set:\")\n",
    "print(classification_report(y_test, y_test_pred))\n",
    "\n",
    "# Plot the Confusion Matrix for Train and Test\n",
    "f, axes = plt.subplots(1, 2, figsize=(12, 4))\n",
    "sns.heatmap(confusion_matrix(y_train, y_train_pred),\n",
    "           annot = True, fmt=\".0f\", annot_kws={\"size\": 18}, ax = axes[0])\n",
    "sns.heatmap(confusion_matrix(y_test, y_test_pred),\n",
    "           annot = True, fmt=\".0f\", annot_kws={\"size\": 18}, ax = axes[1])"
   ]
  },
  {
   "cell_type": "markdown",
   "id": "1f055844-ea8b-4159-bbb2-6a312c8f9b1b",
   "metadata": {},
   "source": [
    "## Keras"
   ]
  },
  {
   "cell_type": "code",
   "execution_count": 7,
   "id": "e647edd2-101f-4716-bd43-fdba6a11802e",
   "metadata": {},
   "outputs": [
    {
     "name": "stdout",
     "output_type": "stream",
     "text": [
      "Epoch 1/10\n",
      "\u001b[1m261/261\u001b[0m \u001b[32m━━━━━━━━━━━━━━━━━━━━\u001b[0m\u001b[37m\u001b[0m \u001b[1m1s\u001b[0m 1ms/step - accuracy: 0.4944 - loss: 463.4232\n",
      "Epoch 2/10\n",
      "\u001b[1m261/261\u001b[0m \u001b[32m━━━━━━━━━━━━━━━━━━━━\u001b[0m\u001b[37m\u001b[0m \u001b[1m0s\u001b[0m 1ms/step - accuracy: 0.5402 - loss: 156.3588  \n",
      "Epoch 3/10\n",
      "\u001b[1m261/261\u001b[0m \u001b[32m━━━━━━━━━━━━━━━━━━━━\u001b[0m\u001b[37m\u001b[0m \u001b[1m0s\u001b[0m 1ms/step - accuracy: 0.5469 - loss: 76.1851\n",
      "Epoch 4/10\n",
      "\u001b[1m261/261\u001b[0m \u001b[32m━━━━━━━━━━━━━━━━━━━━\u001b[0m\u001b[37m\u001b[0m \u001b[1m0s\u001b[0m 1ms/step - accuracy: 0.5438 - loss: 36.2902\n",
      "Epoch 5/10\n",
      "\u001b[1m261/261\u001b[0m \u001b[32m━━━━━━━━━━━━━━━━━━━━\u001b[0m\u001b[37m\u001b[0m \u001b[1m0s\u001b[0m 1ms/step - accuracy: 0.5270 - loss: 23.4976\n",
      "Epoch 6/10\n",
      "\u001b[1m261/261\u001b[0m \u001b[32m━━━━━━━━━━━━━━━━━━━━\u001b[0m\u001b[37m\u001b[0m \u001b[1m0s\u001b[0m 1ms/step - accuracy: 0.5246 - loss: 18.7153\n",
      "Epoch 7/10\n",
      "\u001b[1m261/261\u001b[0m \u001b[32m━━━━━━━━━━━━━━━━━━━━\u001b[0m\u001b[37m\u001b[0m \u001b[1m0s\u001b[0m 1ms/step - accuracy: 0.5343 - loss: 11.5102  \n",
      "Epoch 8/10\n",
      "\u001b[1m261/261\u001b[0m \u001b[32m━━━━━━━━━━━━━━━━━━━━\u001b[0m\u001b[37m\u001b[0m \u001b[1m0s\u001b[0m 1ms/step - accuracy: 0.5538 - loss: 5.6144\n",
      "Epoch 9/10\n",
      "\u001b[1m261/261\u001b[0m \u001b[32m━━━━━━━━━━━━━━━━━━━━\u001b[0m\u001b[37m\u001b[0m \u001b[1m0s\u001b[0m 1ms/step - accuracy: 0.5476 - loss: 4.6058\n",
      "Epoch 10/10\n",
      "\u001b[1m261/261\u001b[0m \u001b[32m━━━━━━━━━━━━━━━━━━━━\u001b[0m\u001b[37m\u001b[0m \u001b[1m0s\u001b[0m 980us/step - accuracy: 0.5326 - loss: 2.5919\n"
     ]
    },
    {
     "data": {
      "text/plain": [
       "<keras.src.callbacks.history.History at 0x236e96a6cd0>"
      ]
     },
     "execution_count": 7,
     "metadata": {},
     "output_type": "execute_result"
    },
    {
     "name": "stdout",
     "output_type": "stream",
     "text": [
      "\n",
      "Train set evaluation:\n",
      "Train Loss: 2.0881471633911133\n",
      "Train Accuracy: 0.5544779896736145\n",
      "\n",
      "Test set evaluation:\n",
      "Test Loss: 2.045017957687378\n",
      "Test Accuracy: 0.5565134286880493\n",
      "\u001b[1m261/261\u001b[0m \u001b[32m━━━━━━━━━━━━━━━━━━━━\u001b[0m\u001b[37m\u001b[0m \u001b[1m0s\u001b[0m 637us/step\n",
      "\u001b[1m66/66\u001b[0m \u001b[32m━━━━━━━━━━━━━━━━━━━━\u001b[0m\u001b[37m\u001b[0m \u001b[1m0s\u001b[0m 996us/step\n"
     ]
    },
    {
     "data": {
      "text/plain": [
       "<Axes: >"
      ]
     },
     "execution_count": 7,
     "metadata": {},
     "output_type": "execute_result"
    },
    {
     "data": {
      "text/plain": [
       "<Axes: >"
      ]
     },
     "execution_count": 7,
     "metadata": {},
     "output_type": "execute_result"
    },
    {
     "data": {
      "image/png": "[encoded data removed]",
      "text/plain": [
       "<Figure size 1200x400 with 4 Axes>"
      ]
     },
     "metadata": {},
     "output_type": "display_data"
    }
   ],
   "source": [
    "from sklearn.preprocessing import LabelEncoder\n",
    "from tensorflow.keras.models import Sequential\n",
    "from tensorflow.keras.layers import Dense, Dropout\n",
    "from keras.optimizers import Adam\n",
    "\n",
    "# Encode target labels as 0 and 1\n",
    "le = LabelEncoder()\n",
    "y_train_encoded = le.fit_transform(y_train)  # 0 for \"alive\", 1 for \"failed\"\n",
    "y_test_encoded = le.transform(y_test)\n",
    "\n",
    "# Define the neural network model\n",
    "model = Sequential()\n",
    "model.add(Dense(64, activation='relu', input_dim=X_train.shape[1]))\n",
    "model.add(Dropout(0.5, seed=99))\n",
    "model.add(Dense(1, activation='sigmoid'))  # Use 1 output neuron for binary classification\n",
    "\n",
    "# Compile the model\n",
    "model.compile(optimizer=Adam(learning_rate=0.001), loss='binary_crossentropy', metrics=['accuracy'])\n",
    "\n",
    "# Train the model\n",
    "model.fit(X_train, y_train_encoded, epochs=10, batch_size=32, verbose=1)\n",
    "\n",
    "# Evaluate the model\n",
    "print(\"\\nTrain set evaluation:\")\n",
    "train_loss, train_accuracy = model.evaluate(X_train, y_train_encoded, verbose=0)\n",
    "print(\"Train Loss:\", train_loss)\n",
    "print(\"Train Accuracy:\", train_accuracy)\n",
    "\n",
    "print(\"\\nTest set evaluation:\")\n",
    "test_loss, test_accuracy = model.evaluate(X_test, y_test_encoded, verbose=0)\n",
    "print(\"Test Loss:\", test_loss)\n",
    "print(\"Test Accuracy:\", test_accuracy)\n",
    "\n",
    "# Predict labels for train set\n",
    "y_train_pred = model.predict(X_train)\n",
    "\n",
    "# Predict labels for test set\n",
    "y_test_pred = model.predict(X_test)\n",
    "\n",
    "# Convert probabilities to binary labels (0 or 1)\n",
    "y_train_pred_classes = (y_train_pred > 0.5).astype(\"int32\")\n",
    "y_test_pred_classes = (y_test_pred > 0.5).astype(\"int32\")\n",
    "\n",
    "# Plot the Confusion Matrix for Train and Test\n",
    "f, axes = plt.subplots(1, 2, figsize=(12, 4))\n",
    "sns.heatmap(confusion_matrix(y_train_encoded, y_train_pred_classes),\n",
    "           annot = True, fmt=\".0f\", annot_kws={\"size\": 18}, ax = axes[0])\n",
    "sns.heatmap(confusion_matrix(y_test_encoded, y_test_pred_classes),\n",
    "           annot = True, fmt=\".0f\", annot_kws={\"size\": 18}, ax = axes[1])\n"
   ]
  },
  {
   "cell_type": "markdown",
   "id": "f047bd25-604a-40b3-9fa6-327911f3f1cc",
   "metadata": {},
   "source": [
    "## No balancing"
   ]
  },
  {
   "cell_type": "code",
   "execution_count": 8,
   "id": "0c8cd587-c954-46f5-8cd6-64537e46cf99",
   "metadata": {},
   "outputs": [
    {
     "name": "stdout",
     "output_type": "stream",
     "text": [
      "X_train shape: (62945, 19)\n",
      "X_test shape: (15737, 19)\n",
      "y_train shape: (62945,)\n",
      "y_test shape: (15737,)\n"
     ]
    }
   ],
   "source": [
    "X = df.drop(columns=[\"status_label\", \"company_name\"])  # Features (all columns except status_label)\n",
    "y = df[\"status_label\"]  # Target column\n",
    "\n",
    "# Split the data: 80% train, 20% test\n",
    "X_train, X_test, y_train, y_test = train_test_split(X, y, test_size=0.2, random_state=99)\n",
    "\n",
    "print(\"X_train shape:\", X_train.shape)\n",
    "print(\"X_test shape:\", X_test.shape)\n",
    "print(\"y_train shape:\", y_train.shape)\n",
    "print(\"y_test shape:\", y_test.shape)"
   ]
  },
  {
   "cell_type": "markdown",
   "id": "9c5cf9b0-bc10-4226-82ed-afffe55da13f",
   "metadata": {},
   "source": [
    "## Random Forest"
   ]
  },
  {
   "cell_type": "code",
   "execution_count": 9,
   "id": "5e8c2372-9416-48f4-bd64-cee10c1683d1",
   "metadata": {},
   "outputs": [
    {
     "data": {
      "text/html": [
       "<style>#sk-container-id-2 {color: black;background-color: white;}#sk-container-id-2 pre{padding: 0;}#sk-container-id-2 div.sk-toggleable {background-color: white;}#sk-container-id-2 label.sk-toggleable__label {cursor: pointer;display: block;width: 100%;margin-bottom: 0;padding: 0.3em;box-sizing: border-box;text-align: center;}#sk-container-id-2 label.sk-toggleable__label-arrow:before {content: \"▸\";float: left;margin-right: 0.25em;color: #696969;}#sk-container-id-2 label.sk-toggleable__label-arrow:hover:before {color: black;}#sk-container-id-2 div.sk-estimator:hover label.sk-toggleable__label-arrow:before {color: black;}#sk-container-id-2 div.sk-toggleable__content {max-height: 0;max-width: 0;overflow: hidden;text-align: left;background-color: #f0f8ff;}#sk-container-id-2 div.sk-toggleable__content pre {margin: 0.2em;color: black;border-radius: 0.25em;background-color: #f0f8ff;}#sk-container-id-2 input.sk-toggleable__control:checked~div.sk-toggleable__content {max-height: 200px;max-width: 100%;overflow: auto;}#sk-container-id-2 input.sk-toggleable__control:checked~label.sk-toggleable__label-arrow:before {content: \"▾\";}#sk-container-id-2 div.sk-estimator input.sk-toggleable__control:checked~label.sk-toggleable__label {background-color: #d4ebff;}#sk-container-id-2 div.sk-label input.sk-toggleable__control:checked~label.sk-toggleable__label {background-color: #d4ebff;}#sk-container-id-2 input.sk-hidden--visually {border: 0;clip: rect(1px 1px 1px 1px);clip: rect(1px, 1px, 1px, 1px);height: 1px;margin: -1px;overflow: hidden;padding: 0;position: absolute;width: 1px;}#sk-container-id-2 div.sk-estimator {font-family: monospace;background-color: #f0f8ff;border: 1px dotted black;border-radius: 0.25em;box-sizing: border-box;margin-bottom: 0.5em;}#sk-container-id-2 div.sk-estimator:hover {background-color: #d4ebff;}#sk-container-id-2 div.sk-parallel-item::after {content: \"\";width: 100%;border-bottom: 1px solid gray;flex-grow: 1;}#sk-container-id-2 div.sk-label:hover label.sk-toggleable__label {background-color: #d4ebff;}#sk-container-id-2 div.sk-serial::before {content: \"\";position: absolute;border-left: 1px solid gray;box-sizing: border-box;top: 0;bottom: 0;left: 50%;z-index: 0;}#sk-container-id-2 div.sk-serial {display: flex;flex-direction: column;align-items: center;background-color: white;padding-right: 0.2em;padding-left: 0.2em;position: relative;}#sk-container-id-2 div.sk-item {position: relative;z-index: 1;}#sk-container-id-2 div.sk-parallel {display: flex;align-items: stretch;justify-content: center;background-color: white;position: relative;}#sk-container-id-2 div.sk-item::before, #sk-container-id-2 div.sk-parallel-item::before {content: \"\";position: absolute;border-left: 1px solid gray;box-sizing: border-box;top: 0;bottom: 0;left: 50%;z-index: -1;}#sk-container-id-2 div.sk-parallel-item {display: flex;flex-direction: column;z-index: 1;position: relative;background-color: white;}#sk-container-id-2 div.sk-parallel-item:first-child::after {align-self: flex-end;width: 50%;}#sk-container-id-2 div.sk-parallel-item:last-child::after {align-self: flex-start;width: 50%;}#sk-container-id-2 div.sk-parallel-item:only-child::after {width: 0;}#sk-container-id-2 div.sk-dashed-wrapped {border: 1px dashed gray;margin: 0 0.4em 0.5em 0.4em;box-sizing: border-box;padding-bottom: 0.4em;background-color: white;}#sk-container-id-2 div.sk-label label {font-family: monospace;font-weight: bold;display: inline-block;line-height: 1.2em;}#sk-container-id-2 div.sk-label-container {text-align: center;}#sk-container-id-2 div.sk-container {/* jupyter's `normalize.less` sets `[hidden] { display: none; }` but bootstrap.min.css set `[hidden] { display: none !important; }` so we also need the `!important` here to be able to override the default hidden behavior on the sphinx rendered scikit-learn.org. See: https://github.com/scikit-learn/scikit-learn/issues/21755 */display: inline-block !important;position: relative;}#sk-container-id-2 div.sk-text-repr-fallback {display: none;}</style><div id=\"sk-container-id-2\" class=\"sk-top-container\"><div class=\"sk-text-repr-fallback\"><pre>RandomForestClassifier()</pre><b>In a Jupyter environment, please rerun this cell to show the HTML representation or trust the notebook. <br />On GitHub, the HTML representation is unable to render, please try loading this page with nbviewer.org.</b></div><div class=\"sk-container\" hidden><div class=\"sk-item\"><div class=\"sk-estimator sk-toggleable\"><input class=\"sk-toggleable__control sk-hidden--visually\" id=\"sk-estimator-id-2\" type=\"checkbox\" checked><label for=\"sk-estimator-id-2\" class=\"sk-toggleable__label sk-toggleable__label-arrow\">RandomForestClassifier</label><div class=\"sk-toggleable__content\"><pre>RandomForestClassifier()</pre></div></div></div></div></div>"
      ],
      "text/plain": [
       "RandomForestClassifier()"
      ]
     },
     "execution_count": 9,
     "metadata": {},
     "output_type": "execute_result"
    },
    {
     "name": "stdout",
     "output_type": "stream",
     "text": [
      "Accuracy on train set: 0.9999841131146239\n",
      "Accuracy on test set: 0.9376628328143864\n",
      "\n",
      "Classification Report on test set:\n",
      "              precision    recall  f1-score   support\n",
      "\n",
      "       alive       0.94      1.00      0.97     14678\n",
      "      failed       0.99      0.07      0.14      1059\n",
      "\n",
      "    accuracy                           0.94     15737\n",
      "   macro avg       0.96      0.54      0.55     15737\n",
      "weighted avg       0.94      0.94      0.91     15737\n",
      "\n"
     ]
    },
    {
     "data": {
      "text/plain": [
       "<Axes: >"
      ]
     },
     "execution_count": 9,
     "metadata": {},
     "output_type": "execute_result"
    },
    {
     "data": {
      "text/plain": [
       "<Axes: >"
      ]
     },
     "execution_count": 9,
     "metadata": {},
     "output_type": "execute_result"
    },
    {
     "data": {
      "image/png": "[encoded data removed]",
      "text/plain": [
       "<Figure size 1200x400 with 4 Axes>"
      ]
     },
     "metadata": {},
     "output_type": "display_data"
    }
   ],
   "source": [
    "rf = RandomForestClassifier()\n",
    "rf.fit(X_train, y_train)\n",
    "\n",
    "# Predict labels for train set\n",
    "y_train_pred = rf.predict(X_train)\n",
    "\n",
    "# Predict labels for test set\n",
    "y_test_pred = rf.predict(X_test)\n",
    "\n",
    "# Evaluate the classifier\n",
    "accuracy = accuracy_score(y_train, y_train_pred)\n",
    "print(\"Accuracy on train set:\", accuracy)\n",
    "\n",
    "accuracy = accuracy_score(y_test, y_test_pred)\n",
    "print(\"Accuracy on test set:\", accuracy)\n",
    "\n",
    "print(\"\\nClassification Report on test set:\")\n",
    "print(classification_report(y_test, y_test_pred))\n",
    "\n",
    "# Plot the Confusion Matrix for Train and Test\n",
    "f, axes = plt.subplots(1, 2, figsize=(12, 4))\n",
    "sns.heatmap(confusion_matrix(y_train, y_train_pred),\n",
    "           annot = True, fmt=\".0f\", annot_kws={\"size\": 18}, ax = axes[0])\n",
    "sns.heatmap(confusion_matrix(y_test, y_test_pred),\n",
    "           annot = True, fmt=\".0f\", annot_kws={\"size\": 18}, ax = axes[1])"
   ]
  },
  {
   "cell_type": "markdown",
   "id": "698afc5b-53f5-4ac8-a1fd-3effd381c330",
   "metadata": {},
   "source": [
    "## Keras"
   ]
  },
  {
   "cell_type": "code",
   "execution_count": 10,
   "id": "b6eb929b-b6d8-4c3d-96d3-a6ab7b724934",
   "metadata": {},
   "outputs": [
    {
     "name": "stdout",
     "output_type": "stream",
     "text": [
      "Epoch 1/10\n",
      "\u001b[1m1968/1968\u001b[0m \u001b[32m━━━━━━━━━━━━━━━━━━━━\u001b[0m\u001b[37m\u001b[0m \u001b[1m3s\u001b[0m 1ms/step - accuracy: 0.8827 - loss: 58.7399\n",
      "Epoch 2/10\n",
      "\u001b[1m1968/1968\u001b[0m \u001b[32m━━━━━━━━━━━━━━━━━━━━\u001b[0m\u001b[37m\u001b[0m \u001b[1m2s\u001b[0m 1ms/step - accuracy: 0.9208 - loss: 2.3691\n",
      "Epoch 3/10\n",
      "\u001b[1m1968/1968\u001b[0m \u001b[32m━━━━━━━━━━━━━━━━━━━━\u001b[0m\u001b[37m\u001b[0m \u001b[1m2s\u001b[0m 1ms/step - accuracy: 0.9314 - loss: 1.0554\n",
      "Epoch 4/10\n",
      "\u001b[1m1968/1968\u001b[0m \u001b[32m━━━━━━━━━━━━━━━━━━━━\u001b[0m\u001b[37m\u001b[0m \u001b[1m3s\u001b[0m 1ms/step - accuracy: 0.9334 - loss: 0.3197\n",
      "Epoch 5/10\n",
      "\u001b[1m1968/1968\u001b[0m \u001b[32m━━━━━━━━━━━━━━━━━━━━\u001b[0m\u001b[37m\u001b[0m \u001b[1m2s\u001b[0m 1ms/step - accuracy: 0.9338 - loss: 0.3157\n",
      "Epoch 6/10\n",
      "\u001b[1m1968/1968\u001b[0m \u001b[32m━━━━━━━━━━━━━━━━━━━━\u001b[0m\u001b[37m\u001b[0m \u001b[1m3s\u001b[0m 1ms/step - accuracy: 0.9338 - loss: 0.2518\n",
      "Epoch 7/10\n",
      "\u001b[1m1968/1968\u001b[0m \u001b[32m━━━━━━━━━━━━━━━━━━━━\u001b[0m\u001b[37m\u001b[0m \u001b[1m3s\u001b[0m 1ms/step - accuracy: 0.9346 - loss: 0.2512\n",
      "Epoch 8/10\n",
      "\u001b[1m1968/1968\u001b[0m \u001b[32m━━━━━━━━━━━━━━━━━━━━\u001b[0m\u001b[37m\u001b[0m \u001b[1m2s\u001b[0m 1ms/step - accuracy: 0.9358 - loss: 0.2460\n",
      "Epoch 9/10\n",
      "\u001b[1m1968/1968\u001b[0m \u001b[32m━━━━━━━━━━━━━━━━━━━━\u001b[0m\u001b[37m\u001b[0m \u001b[1m2s\u001b[0m 1ms/step - accuracy: 0.9331 - loss: 0.2492\n",
      "Epoch 10/10\n",
      "\u001b[1m1968/1968\u001b[0m \u001b[32m━━━━━━━━━━━━━━━━━━━━\u001b[0m\u001b[37m\u001b[0m \u001b[1m3s\u001b[0m 1ms/step - accuracy: 0.9333 - loss: 0.2463\n"
     ]
    },
    {
     "data": {
      "text/plain": [
       "<keras.src.callbacks.history.History at 0x236e94bb110>"
      ]
     },
     "execution_count": 10,
     "metadata": {},
     "output_type": "execute_result"
    },
    {
     "name": "stdout",
     "output_type": "stream",
     "text": [
      "\n",
      "Train set evaluation:\n",
      "Train Loss: 0.24740004539489746\n",
      "Train Accuracy: 0.9339264631271362\n",
      "\n",
      "Test set evaluation:\n",
      "Test Loss: 0.2655734121799469\n",
      "Test Accuracy: 0.9326428174972534\n",
      "\u001b[1m1968/1968\u001b[0m \u001b[32m━━━━━━━━━━━━━━━━━━━━\u001b[0m\u001b[37m\u001b[0m \u001b[1m1s\u001b[0m 726us/step\n",
      "\u001b[1m492/492\u001b[0m \u001b[32m━━━━━━━━━━━━━━━━━━━━\u001b[0m\u001b[37m\u001b[0m \u001b[1m0s\u001b[0m 745us/step\n"
     ]
    },
    {
     "data": {
      "text/plain": [
       "<Axes: >"
      ]
     },
     "execution_count": 10,
     "metadata": {},
     "output_type": "execute_result"
    },
    {
     "data": {
      "text/plain": [
       "<Axes: >"
      ]
     },
     "execution_count": 10,
     "metadata": {},
     "output_type": "execute_result"
    },
    {
     "data": {
      "image/png": "[encoded data removed]",
      "text/plain": [
       "<Figure size 1200x400 with 4 Axes>"
      ]
     },
     "metadata": {},
     "output_type": "display_data"
    }
   ],
   "source": [
    "from sklearn.preprocessing import LabelEncoder\n",
    "from tensorflow.keras.models import Sequential\n",
    "from tensorflow.keras.layers import Dense, Dropout\n",
    "from keras.optimizers import Adam\n",
    "\n",
    "# Encode target labels as 0 and 1\n",
    "le = LabelEncoder()\n",
    "y_train_encoded = le.fit_transform(y_train)  # 0 for \"alive\", 1 for \"failed\"\n",
    "y_test_encoded = le.transform(y_test)\n",
    "\n",
    "# Define the neural network model\n",
    "model = Sequential()\n",
    "model.add(Dense(64, activation='relu', input_dim=X_train.shape[1]))\n",
    "model.add(Dropout(0.5, seed=99))\n",
    "model.add(Dense(1, activation='sigmoid'))  # Use 1 output neuron for binary classification\n",
    "\n",
    "# Compile the model\n",
    "model.compile(optimizer=Adam(learning_rate=0.001), loss='binary_crossentropy', metrics=['accuracy'])\n",
    "\n",
    "# Train the model\n",
    "model.fit(X_train, y_train_encoded, epochs=10, batch_size=32, verbose=1)\n",
    "\n",
    "# Evaluate the model\n",
    "print(\"\\nTrain set evaluation:\")\n",
    "train_loss, train_accuracy = model.evaluate(X_train, y_train_encoded, verbose=0)\n",
    "print(\"Train Loss:\", train_loss)\n",
    "print(\"Train Accuracy:\", train_accuracy)\n",
    "\n",
    "print(\"\\nTest set evaluation:\")\n",
    "test_loss, test_accuracy = model.evaluate(X_test, y_test_encoded, verbose=0)\n",
    "print(\"Test Loss:\", test_loss)\n",
    "print(\"Test Accuracy:\", test_accuracy)\n",
    "\n",
    "# Predict labels for train set\n",
    "y_train_pred = model.predict(X_train)\n",
    "\n",
    "# Predict labels for test set\n",
    "y_test_pred = model.predict(X_test)\n",
    "\n",
    "# Convert probabilities to binary labels (0 or 1)\n",
    "y_train_pred_classes = (y_train_pred > 0.5).astype(\"int32\")\n",
    "y_test_pred_classes = (y_test_pred > 0.5).astype(\"int32\")\n",
    "\n",
    "# Plot the Confusion Matrix for Train and Test\n",
    "f, axes = plt.subplots(1, 2, figsize=(12, 4))\n",
    "sns.heatmap(confusion_matrix(y_train_encoded, y_train_pred_classes),\n",
    "           annot = True, fmt=\".0f\", annot_kws={\"size\": 18}, ax = axes[0])\n",
    "sns.heatmap(confusion_matrix(y_test_encoded, y_test_pred_classes),\n",
    "           annot = True, fmt=\".0f\", annot_kws={\"size\": 18}, ax = axes[1])"
   ]
  },
  {
   "cell_type": "markdown",
   "id": "42373e99-861b-4ba6-9e68-cc740495861d",
   "metadata": {},
   "source": [
    "# Using recommended training, validation and test sets"
   ]
  },
  {
   "cell_type": "code",
   "execution_count": 16,
   "id": "f93b5533-0f09-459e-87d1-5b602334d387",
   "metadata": {},
   "outputs": [
    {
     "name": "stdout",
     "output_type": "stream",
     "text": [
      "<class 'pandas.core.frame.DataFrame'>\n",
      "Index: 55927 entries, 0 to 78653\n",
      "Data columns (total 19 columns):\n",
      " #   Column  Non-Null Count  Dtype  \n",
      "---  ------  --------------  -----  \n",
      " 0   year    55927 non-null  int64  \n",
      " 1   X1      55927 non-null  float64\n",
      " 2   X2      55927 non-null  float64\n",
      " 3   X3      55927 non-null  float64\n",
      " 4   X4      55927 non-null  float64\n",
      " 5   X5      55927 non-null  float64\n",
      " 6   X6      55927 non-null  float64\n",
      " 7   X7      55927 non-null  float64\n",
      " 8   X8      55927 non-null  float64\n",
      " 9   X9      55927 non-null  float64\n",
      " 10  X10     55927 non-null  float64\n",
      " 11  X11     55927 non-null  float64\n",
      " 12  X12     55927 non-null  float64\n",
      " 13  X13     55927 non-null  float64\n",
      " 14  X14     55927 non-null  float64\n",
      " 15  X15     55927 non-null  float64\n",
      " 16  X16     55927 non-null  float64\n",
      " 17  X17     55927 non-null  float64\n",
      " 18  X18     55927 non-null  float64\n",
      "dtypes: float64(18), int64(1)\n",
      "memory usage: 8.5 MB\n",
      "<class 'pandas.core.series.Series'>\n",
      "Index: 55927 entries, 0 to 78653\n",
      "Series name: status_label\n",
      "Non-Null Count  Dtype \n",
      "--------------  ----- \n",
      "55927 non-null  object\n",
      "dtypes: object(1)\n",
      "memory usage: 873.9+ KB\n"
     ]
    }
   ],
   "source": [
    "df_train = df[df[\"year\"] <= 2011]\n",
    "y_train = df_train[\"status_label\"]\n",
    "X_train = df_train.drop(columns = [\"company_name\", \"status_label\"])\n",
    "X_train.info()\n",
    "y_train.info()"
   ]
  },
  {
   "cell_type": "code",
   "execution_count": 19,
   "id": "e652124c-9d15-4076-abb2-074b4a8f086a",
   "metadata": {},
   "outputs": [
    {
     "name": "stdout",
     "output_type": "stream",
     "text": [
      "<class 'pandas.core.frame.DataFrame'>\n",
      "Index: 10473 entries, 13 to 78677\n",
      "Data columns (total 19 columns):\n",
      " #   Column  Non-Null Count  Dtype  \n",
      "---  ------  --------------  -----  \n",
      " 0   year    10473 non-null  int64  \n",
      " 1   X1      10473 non-null  float64\n",
      " 2   X2      10473 non-null  float64\n",
      " 3   X3      10473 non-null  float64\n",
      " 4   X4      10473 non-null  float64\n",
      " 5   X5      10473 non-null  float64\n",
      " 6   X6      10473 non-null  float64\n",
      " 7   X7      10473 non-null  float64\n",
      " 8   X8      10473 non-null  float64\n",
      " 9   X9      10473 non-null  float64\n",
      " 10  X10     10473 non-null  float64\n",
      " 11  X11     10473 non-null  float64\n",
      " 12  X12     10473 non-null  float64\n",
      " 13  X13     10473 non-null  float64\n",
      " 14  X14     10473 non-null  float64\n",
      " 15  X15     10473 non-null  float64\n",
      " 16  X16     10473 non-null  float64\n",
      " 17  X17     10473 non-null  float64\n",
      " 18  X18     10473 non-null  float64\n",
      "dtypes: float64(18), int64(1)\n",
      "memory usage: 1.6 MB\n",
      "<class 'pandas.core.series.Series'>\n",
      "Index: 10473 entries, 13 to 78677\n",
      "Series name: status_label\n",
      "Non-Null Count  Dtype \n",
      "--------------  ----- \n",
      "10473 non-null  object\n",
      "dtypes: object(1)\n",
      "memory usage: 163.6+ KB\n"
     ]
    }
   ],
   "source": [
    "df_val = df[(df[\"year\"] <= 2014) & (df[\"year\"] >= 2012)]\n",
    "y_val = df_val[\"status_label\"]\n",
    "X_val = df_val.drop(columns = [\"company_name\", \"status_label\"])\n",
    "X_val.info()\n",
    "y_val.info()"
   ]
  },
  {
   "cell_type": "code",
   "execution_count": 20,
   "id": "3e2bedb4-1697-4c46-b6d5-9206c3cbccde",
   "metadata": {},
   "outputs": [
    {
     "name": "stdout",
     "output_type": "stream",
     "text": [
      "<class 'pandas.core.frame.DataFrame'>\n",
      "Index: 12282 entries, 16 to 78681\n",
      "Data columns (total 19 columns):\n",
      " #   Column  Non-Null Count  Dtype  \n",
      "---  ------  --------------  -----  \n",
      " 0   year    12282 non-null  int64  \n",
      " 1   X1      12282 non-null  float64\n",
      " 2   X2      12282 non-null  float64\n",
      " 3   X3      12282 non-null  float64\n",
      " 4   X4      12282 non-null  float64\n",
      " 5   X5      12282 non-null  float64\n",
      " 6   X6      12282 non-null  float64\n",
      " 7   X7      12282 non-null  float64\n",
      " 8   X8      12282 non-null  float64\n",
      " 9   X9      12282 non-null  float64\n",
      " 10  X10     12282 non-null  float64\n",
      " 11  X11     12282 non-null  float64\n",
      " 12  X12     12282 non-null  float64\n",
      " 13  X13     12282 non-null  float64\n",
      " 14  X14     12282 non-null  float64\n",
      " 15  X15     12282 non-null  float64\n",
      " 16  X16     12282 non-null  float64\n",
      " 17  X17     12282 non-null  float64\n",
      " 18  X18     12282 non-null  float64\n",
      "dtypes: float64(18), int64(1)\n",
      "memory usage: 1.9 MB\n",
      "<class 'pandas.core.series.Series'>\n",
      "Index: 12282 entries, 16 to 78681\n",
      "Series name: status_label\n",
      "Non-Null Count  Dtype \n",
      "--------------  ----- \n",
      "12282 non-null  object\n",
      "dtypes: object(1)\n",
      "memory usage: 191.9+ KB\n"
     ]
    }
   ],
   "source": [
    "df_test = df[(df[\"year\"] >= 2015)]\n",
    "y_test = df_test[\"status_label\"]\n",
    "X_test = df_test.drop(columns = [\"company_name\", \"status_label\"])\n",
    "X_test.info()\n",
    "y_test.info()"
   ]
  },
  {
   "cell_type": "markdown",
   "id": "beaebc4c-bf62-42fa-973f-2d4d5cf33525",
   "metadata": {},
   "source": [
    "## Random Forest"
   ]
  },
  {
   "cell_type": "code",
   "execution_count": 21,
   "id": "d0f00676-4f97-41af-9ab5-531dc38c5f1a",
   "metadata": {},
   "outputs": [
    {
     "data": {
      "text/html": [
       "<style>#sk-container-id-4 {color: black;background-color: white;}#sk-container-id-4 pre{padding: 0;}#sk-container-id-4 div.sk-toggleable {background-color: white;}#sk-container-id-4 label.sk-toggleable__label {cursor: pointer;display: block;width: 100%;margin-bottom: 0;padding: 0.3em;box-sizing: border-box;text-align: center;}#sk-container-id-4 label.sk-toggleable__label-arrow:before {content: \"▸\";float: left;margin-right: 0.25em;color: #696969;}#sk-container-id-4 label.sk-toggleable__label-arrow:hover:before {color: black;}#sk-container-id-4 div.sk-estimator:hover label.sk-toggleable__label-arrow:before {color: black;}#sk-container-id-4 div.sk-toggleable__content {max-height: 0;max-width: 0;overflow: hidden;text-align: left;background-color: #f0f8ff;}#sk-container-id-4 div.sk-toggleable__content pre {margin: 0.2em;color: black;border-radius: 0.25em;background-color: #f0f8ff;}#sk-container-id-4 input.sk-toggleable__control:checked~div.sk-toggleable__content {max-height: 200px;max-width: 100%;overflow: auto;}#sk-container-id-4 input.sk-toggleable__control:checked~label.sk-toggleable__label-arrow:before {content: \"▾\";}#sk-container-id-4 div.sk-estimator input.sk-toggleable__control:checked~label.sk-toggleable__label {background-color: #d4ebff;}#sk-container-id-4 div.sk-label input.sk-toggleable__control:checked~label.sk-toggleable__label {background-color: #d4ebff;}#sk-container-id-4 input.sk-hidden--visually {border: 0;clip: rect(1px 1px 1px 1px);clip: rect(1px, 1px, 1px, 1px);height: 1px;margin: -1px;overflow: hidden;padding: 0;position: absolute;width: 1px;}#sk-container-id-4 div.sk-estimator {font-family: monospace;background-color: #f0f8ff;border: 1px dotted black;border-radius: 0.25em;box-sizing: border-box;margin-bottom: 0.5em;}#sk-container-id-4 div.sk-estimator:hover {background-color: #d4ebff;}#sk-container-id-4 div.sk-parallel-item::after {content: \"\";width: 100%;border-bottom: 1px solid gray;flex-grow: 1;}#sk-container-id-4 div.sk-label:hover label.sk-toggleable__label {background-color: #d4ebff;}#sk-container-id-4 div.sk-serial::before {content: \"\";position: absolute;border-left: 1px solid gray;box-sizing: border-box;top: 0;bottom: 0;left: 50%;z-index: 0;}#sk-container-id-4 div.sk-serial {display: flex;flex-direction: column;align-items: center;background-color: white;padding-right: 0.2em;padding-left: 0.2em;position: relative;}#sk-container-id-4 div.sk-item {position: relative;z-index: 1;}#sk-container-id-4 div.sk-parallel {display: flex;align-items: stretch;justify-content: center;background-color: white;position: relative;}#sk-container-id-4 div.sk-item::before, #sk-container-id-4 div.sk-parallel-item::before {content: \"\";position: absolute;border-left: 1px solid gray;box-sizing: border-box;top: 0;bottom: 0;left: 50%;z-index: -1;}#sk-container-id-4 div.sk-parallel-item {display: flex;flex-direction: column;z-index: 1;position: relative;background-color: white;}#sk-container-id-4 div.sk-parallel-item:first-child::after {align-self: flex-end;width: 50%;}#sk-container-id-4 div.sk-parallel-item:last-child::after {align-self: flex-start;width: 50%;}#sk-container-id-4 div.sk-parallel-item:only-child::after {width: 0;}#sk-container-id-4 div.sk-dashed-wrapped {border: 1px dashed gray;margin: 0 0.4em 0.5em 0.4em;box-sizing: border-box;padding-bottom: 0.4em;background-color: white;}#sk-container-id-4 div.sk-label label {font-family: monospace;font-weight: bold;display: inline-block;line-height: 1.2em;}#sk-container-id-4 div.sk-label-container {text-align: center;}#sk-container-id-4 div.sk-container {/* jupyter's `normalize.less` sets `[hidden] { display: none; }` but bootstrap.min.css set `[hidden] { display: none !important; }` so we also need the `!important` here to be able to override the default hidden behavior on the sphinx rendered scikit-learn.org. See: https://github.com/scikit-learn/scikit-learn/issues/21755 */display: inline-block !important;position: relative;}#sk-container-id-4 div.sk-text-repr-fallback {display: none;}</style><div id=\"sk-container-id-4\" class=\"sk-top-container\"><div class=\"sk-text-repr-fallback\"><pre>RandomForestClassifier(random_state=42)</pre><b>In a Jupyter environment, please rerun this cell to show the HTML representation or trust the notebook. <br />On GitHub, the HTML representation is unable to render, please try loading this page with nbviewer.org.</b></div><div class=\"sk-container\" hidden><div class=\"sk-item\"><div class=\"sk-estimator sk-toggleable\"><input class=\"sk-toggleable__control sk-hidden--visually\" id=\"sk-estimator-id-4\" type=\"checkbox\" checked><label for=\"sk-estimator-id-4\" class=\"sk-toggleable__label sk-toggleable__label-arrow\">RandomForestClassifier</label><div class=\"sk-toggleable__content\"><pre>RandomForestClassifier(random_state=42)</pre></div></div></div></div></div>"
      ],
      "text/plain": [
       "RandomForestClassifier(random_state=42)"
      ]
     },
     "execution_count": 21,
     "metadata": {},
     "output_type": "execute_result"
    },
    {
     "name": "stdout",
     "output_type": "stream",
     "text": [
      "Validation Accuracy: 0.9555\n"
     ]
    },
    {
     "data": {
      "text/plain": [
       "<Axes: >"
      ]
     },
     "execution_count": 21,
     "metadata": {},
     "output_type": "execute_result"
    },
    {
     "data": {
      "text/plain": [
       "<Axes: >"
      ]
     },
     "execution_count": 21,
     "metadata": {},
     "output_type": "execute_result"
    },
    {
     "name": "stdout",
     "output_type": "stream",
     "text": [
      "Test Accuracy: 0.9764\n"
     ]
    },
    {
     "data": {
      "text/plain": [
       "<Axes: >"
      ]
     },
     "execution_count": 21,
     "metadata": {},
     "output_type": "execute_result"
    },
    {
     "data": {
      "text/plain": [
       "<Axes: >"
      ]
     },
     "execution_count": 21,
     "metadata": {},
     "output_type": "execute_result"
    },
    {
     "data": {
      "image/png": "[encoded data removed]",
      "text/plain": [
       "<Figure size 1200x400 with 4 Axes>"
      ]
     },
     "metadata": {},
     "output_type": "display_data"
    },
    {
     "data": {
      "image/png": "[encoded data removed]",
      "text/plain": [
       "<Figure size 1200x400 with 4 Axes>"
      ]
     },
     "metadata": {},
     "output_type": "display_data"
    }
   ],
   "source": [
    "\n",
    "# Initialize the RandomForestClassifier\n",
    "rf = RandomForestClassifier(n_estimators=100, random_state=42)\n",
    "\n",
    "# Train the model on the training set\n",
    "rf.fit(X_train, y_train)\n",
    "\n",
    "# Evaluate on the validation set\n",
    "y_val_pred = rf.predict(X_val)\n",
    "val_accuracy = accuracy_score(y_val, y_val_pred)\n",
    "print(f'Validation Accuracy: {val_accuracy:.4f}')\n",
    "\n",
    "# Plot the Confusion Matrix for Train and val\n",
    "f, axes = plt.subplots(1, 2, figsize=(12, 4))\n",
    "sns.heatmap(confusion_matrix(y_val, y_val_pred),\n",
    "           annot = True, fmt=\".0f\", annot_kws={\"size\": 18}, ax = axes[0])\n",
    "sns.heatmap(confusion_matrix(y_val, y_val_pred),\n",
    "           annot = True, fmt=\".0f\", annot_kws={\"size\": 18}, ax = axes[1])\n",
    "\n",
    "# Hyperparameter tuning (example: adjusting n_estimators, max_depth, etc.)\n",
    "# You can perform this step iteratively, adjusting hyperparameters based on validation performance\n",
    "\n",
    "# Final evaluation on the test set\n",
    "y_test_pred = rf.predict(X_test)\n",
    "test_accuracy = accuracy_score(y_test, y_test_pred)\n",
    "print(f'Test Accuracy: {test_accuracy:.4f}')\n",
    "\n",
    "# Plot the Confusion Matrix for Train and Test\n",
    "f, axes = plt.subplots(1, 2, figsize=(12, 4))\n",
    "sns.heatmap(confusion_matrix(y_test, y_test_pred),\n",
    "           annot = True, fmt=\".0f\", annot_kws={\"size\": 18}, ax = axes[0])\n",
    "sns.heatmap(confusion_matrix(y_test, y_test_pred),\n",
    "           annot = True, fmt=\".0f\", annot_kws={\"size\": 18}, ax = axes[1])"
   ]
  },
  {
   "cell_type": "markdown",
   "id": "1976ba4f-6129-4a7c-88ab-74cb37188462",
   "metadata": {},
   "source": [
    "## Keras"
   ]
  },
  {
   "cell_type": "code",
   "execution_count": 22,
   "id": "67403614-2a6b-4cd5-bd1d-7eab458aa953",
   "metadata": {},
   "outputs": [
    {
     "name": "stdout",
     "output_type": "stream",
     "text": [
      "Epoch 1/10\n",
      "\u001b[1m1748/1748\u001b[0m \u001b[32m━━━━━━━━━━━━━━━━━━━━\u001b[0m\u001b[37m\u001b[0m \u001b[1m3s\u001b[0m 1ms/step - accuracy: 0.8426 - loss: 95.3844 - val_accuracy: 0.9525 - val_loss: 3.4505\n",
      "Epoch 2/10\n",
      "\u001b[1m1748/1748\u001b[0m \u001b[32m━━━━━━━━━━━━━━━━━━━━\u001b[0m\u001b[37m\u001b[0m \u001b[1m2s\u001b[0m 1ms/step - accuracy: 0.9140 - loss: 4.5101 - val_accuracy: 0.9528 - val_loss: 0.6113\n",
      "Epoch 3/10\n",
      "\u001b[1m1748/1748\u001b[0m \u001b[32m━━━━━━━━━━━━━━━━━━━━\u001b[0m\u001b[37m\u001b[0m \u001b[1m2s\u001b[0m 1ms/step - accuracy: 0.9174 - loss: 1.4508 - val_accuracy: 0.9531 - val_loss: 0.2405\n",
      "Epoch 4/10\n",
      "\u001b[1m1748/1748\u001b[0m \u001b[32m━━━━━━━━━━━━━━━━━━━━\u001b[0m\u001b[37m\u001b[0m \u001b[1m2s\u001b[0m 1ms/step - accuracy: 0.9197 - loss: 0.5373 - val_accuracy: 0.9527 - val_loss: 0.1991\n",
      "Epoch 5/10\n",
      "\u001b[1m1748/1748\u001b[0m \u001b[32m━━━━━━━━━━━━━━━━━━━━\u001b[0m\u001b[37m\u001b[0m \u001b[1m2s\u001b[0m 1ms/step - accuracy: 0.9193 - loss: 0.3313 - val_accuracy: 0.9527 - val_loss: 0.2151\n",
      "Epoch 6/10\n",
      "\u001b[1m1748/1748\u001b[0m \u001b[32m━━━━━━━━━━━━━━━━━━━━\u001b[0m\u001b[37m\u001b[0m \u001b[1m2s\u001b[0m 1ms/step - accuracy: 0.9194 - loss: 0.4511 - val_accuracy: 0.9524 - val_loss: 0.2280\n",
      "Epoch 7/10\n",
      "\u001b[1m1748/1748\u001b[0m \u001b[32m━━━━━━━━━━━━━━━━━━━━\u001b[0m\u001b[37m\u001b[0m \u001b[1m3s\u001b[0m 1ms/step - accuracy: 0.9207 - loss: 0.2951 - val_accuracy: 0.9523 - val_loss: 0.2375\n",
      "Epoch 8/10\n",
      "\u001b[1m1748/1748\u001b[0m \u001b[32m━━━━━━━━━━━━━━━━━━━━\u001b[0m\u001b[37m\u001b[0m \u001b[1m2s\u001b[0m 1ms/step - accuracy: 0.9193 - loss: 0.2919 - val_accuracy: 0.9531 - val_loss: 0.2038\n",
      "Epoch 9/10\n",
      "\u001b[1m1748/1748\u001b[0m \u001b[32m━━━━━━━━━━━━━━━━━━━━\u001b[0m\u001b[37m\u001b[0m \u001b[1m3s\u001b[0m 1ms/step - accuracy: 0.9198 - loss: 0.2852 - val_accuracy: 0.9531 - val_loss: 0.2005\n",
      "Epoch 10/10\n",
      "\u001b[1m1748/1748\u001b[0m \u001b[32m━━━━━━━━━━━━━━━━━━━━\u001b[0m\u001b[37m\u001b[0m \u001b[1m2s\u001b[0m 1ms/step - accuracy: 0.9216 - loss: 0.2750 - val_accuracy: 0.9531 - val_loss: 0.2004\n"
     ]
    },
    {
     "data": {
      "text/plain": [
       "<keras.src.callbacks.history.History at 0x236f81e0290>"
      ]
     },
     "execution_count": 22,
     "metadata": {},
     "output_type": "execute_result"
    },
    {
     "name": "stdout",
     "output_type": "stream",
     "text": [
      "\n",
      "Train set evaluation:\n",
      "Train Loss: 0.27697986364364624\n",
      "Train Accuracy: 0.9206286668777466\n",
      "\n",
      "Test set evaluation:\n",
      "Test Loss: 0.20184332132339478\n",
      "Test Accuracy: 0.9763067960739136\n",
      "\u001b[1m1748/1748\u001b[0m \u001b[32m━━━━━━━━━━━━━━━━━━━━\u001b[0m\u001b[37m\u001b[0m \u001b[1m1s\u001b[0m 694us/step\n",
      "\u001b[1m384/384\u001b[0m \u001b[32m━━━━━━━━━━━━━━━━━━━━\u001b[0m\u001b[37m\u001b[0m \u001b[1m0s\u001b[0m 675us/step\n"
     ]
    },
    {
     "data": {
      "text/plain": [
       "<Axes: >"
      ]
     },
     "execution_count": 22,
     "metadata": {},
     "output_type": "execute_result"
    },
    {
     "data": {
      "text/plain": [
       "<Axes: >"
      ]
     },
     "execution_count": 22,
     "metadata": {},
     "output_type": "execute_result"
    },
    {
     "data": {
      "image/png": "[encoded data removed]",
      "text/plain": [
       "<Figure size 1200x400 with 4 Axes>"
      ]
     },
     "metadata": {},
     "output_type": "display_data"
    }
   ],
   "source": [
    "from sklearn.preprocessing import LabelEncoder\n",
    "from tensorflow.keras.models import Sequential\n",
    "from tensorflow.keras.layers import Dense, Dropout\n",
    "from keras.optimizers import Adam\n",
    "\n",
    "# Encode target labels as 0 and 1\n",
    "le = LabelEncoder()\n",
    "y_train_encoded = le.fit_transform(y_train)  # 0 for \"alive\", 1 for \"failed\"\n",
    "y_test_encoded = le.transform(y_test)\n",
    "y_val_encoded = le.transform(y_val)\n",
    "\n",
    "# Define the neural network model\n",
    "model = Sequential()\n",
    "model.add(Dense(64, activation='relu', input_dim=X_train.shape[1]))\n",
    "model.add(Dropout(0.5, seed=99))\n",
    "model.add(Dense(1, activation='sigmoid'))  # Use 1 output neuron for binary classification\n",
    "\n",
    "# Compile the model\n",
    "model.compile(optimizer=Adam(learning_rate=0.001), loss='binary_crossentropy', metrics=['accuracy'])\n",
    "\n",
    "# Train the model\n",
    "model.fit(X_train, y_train_encoded, epochs=10, batch_size=32, validation_data=(X_val, y_val_encoded), verbose=1)\n",
    "\n",
    "# Evaluate the model\n",
    "print(\"\\nTrain set evaluation:\")\n",
    "train_loss, train_accuracy = model.evaluate(X_train, y_train_encoded, verbose=0)\n",
    "print(\"Train Loss:\", train_loss)\n",
    "print(\"Train Accuracy:\", train_accuracy)\n",
    "\n",
    "print(\"\\nTest set evaluation:\")\n",
    "test_loss, test_accuracy = model.evaluate(X_test, y_test_encoded, verbose=0)\n",
    "print(\"Test Loss:\", test_loss)\n",
    "print(\"Test Accuracy:\", test_accuracy)\n",
    "\n",
    "# Predict labels for train set\n",
    "y_train_pred = model.predict(X_train)\n",
    "\n",
    "# Predict labels for test set\n",
    "y_test_pred = model.predict(X_test)\n",
    "\n",
    "# Convert probabilities to binary labels (0 or 1)\n",
    "y_train_pred_classes = (y_train_pred > 0.5).astype(\"int32\")\n",
    "y_test_pred_classes = (y_test_pred > 0.5).astype(\"int32\")\n",
    "\n",
    "# Plot the Confusion Matrix for Train and Test\n",
    "f, axes = plt.subplots(1, 2, figsize=(12, 4))\n",
    "sns.heatmap(confusion_matrix(y_train_encoded, y_train_pred_classes),\n",
    "           annot = True, fmt=\".0f\", annot_kws={\"size\": 18}, ax = axes[0])\n",
    "sns.heatmap(confusion_matrix(y_test_encoded, y_test_pred_classes),\n",
    "           annot = True, fmt=\".0f\", annot_kws={\"size\": 18}, ax = axes[1])"
   ]
  },
  {
   "cell_type": "code",
   "execution_count": null,
   "id": "4d3a2add-8057-4d3f-86e3-747edf82de6a",
   "metadata": {},
   "outputs": [],
   "source": []
  }
 ],
 "metadata": {
  "kernelspec": {
   "display_name": "Python 3 (ipykernel)",
   "language": "python",
   "name": "python3"
  },
  "language_info": {
   "codemirror_mode": {
    "name": "ipython",
    "version": 3
   },
   "file_extension": ".py",
   "mimetype": "text/x-python",
   "name": "python",
   "nbconvert_exporter": "python",
   "pygments_lexer": "ipython3",
   "version": "3.11.7"
  }
 },
 "nbformat": 4,
 "nbformat_minor": 5
}

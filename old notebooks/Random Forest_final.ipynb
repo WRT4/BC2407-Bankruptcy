{
 "cells": [
  {
   "cell_type": "code",
   "execution_count": 12,
   "id": "8c2427d7",
   "metadata": {},
   "outputs": [],
   "source": [
    "import numpy as np\n",
    "import pandas as pd\n",
    "import matplotlib.pyplot as plt\n",
    "import matplotlib.style\n",
    "import seaborn as sns\n",
    "import tensorflow as tf\n",
    "import warnings\n",
    "warnings.filterwarnings('ignore')\n",
    "from IPython.core.interactiveshell import InteractiveShell\n",
    "InteractiveShell.ast_node_interactivity = \"all\"\n",
    "\n",
    "from sklearn.metrics import accuracy_score, precision_score, recall_score, f1_score, classification_report, confusion_matrix\n",
    "from sklearn.model_selection import train_test_split\n",
    "from sklearn.ensemble import RandomForestClassifier\n",
    "from keras.models import Sequential\n",
    "from keras.layers import Dense, Dropout\n",
    "from keras.utils import to_categorical\n",
    "from sklearn.linear_model import LogisticRegression\n",
    "from sklearn.model_selection import GridSearchCV\n",
    "from imblearn.over_sampling import SMOTE"
   ]
  },
  {
   "cell_type": "markdown",
   "id": "31f47f1a",
   "metadata": {},
   "source": [
    "# Data Cleaning"
   ]
  },
  {
   "cell_type": "code",
   "execution_count": 13,
   "id": "64db23ae",
   "metadata": {},
   "outputs": [
    {
     "data": {
      "text/html": [
       "<div>\n",
       "<style scoped>\n",
       "    .dataframe tbody tr th:only-of-type {\n",
       "        vertical-align: middle;\n",
       "    }\n",
       "\n",
       "    .dataframe tbody tr th {\n",
       "        vertical-align: top;\n",
       "    }\n",
       "\n",
       "    .dataframe thead th {\n",
       "        text-align: right;\n",
       "    }\n",
       "</style>\n",
       "<table border=\"1\" class=\"dataframe\">\n",
       "  <thead>\n",
       "    <tr style=\"text-align: right;\">\n",
       "      <th></th>\n",
       "      <th>year</th>\n",
       "      <th>X1</th>\n",
       "      <th>X2</th>\n",
       "      <th>X3</th>\n",
       "      <th>X4</th>\n",
       "      <th>X5</th>\n",
       "      <th>X6</th>\n",
       "      <th>X7</th>\n",
       "      <th>X8</th>\n",
       "      <th>X9</th>\n",
       "      <th>X10</th>\n",
       "      <th>X11</th>\n",
       "      <th>X12</th>\n",
       "      <th>X13</th>\n",
       "      <th>X14</th>\n",
       "      <th>X15</th>\n",
       "      <th>X16</th>\n",
       "      <th>X17</th>\n",
       "      <th>X18</th>\n",
       "    </tr>\n",
       "  </thead>\n",
       "  <tbody>\n",
       "    <tr>\n",
       "      <th>count</th>\n",
       "      <td>78682.000000</td>\n",
       "      <td>78682.000000</td>\n",
       "      <td>78682.000000</td>\n",
       "      <td>78682.000000</td>\n",
       "      <td>78682.000000</td>\n",
       "      <td>78682.000000</td>\n",
       "      <td>78682.000000</td>\n",
       "      <td>78682.000000</td>\n",
       "      <td>7.868200e+04</td>\n",
       "      <td>78682.000000</td>\n",
       "      <td>78682.000000</td>\n",
       "      <td>78682.000000</td>\n",
       "      <td>78682.000000</td>\n",
       "      <td>78682.000000</td>\n",
       "      <td>78682.000000</td>\n",
       "      <td>78682.000000</td>\n",
       "      <td>78682.000000</td>\n",
       "      <td>78682.000000</td>\n",
       "      <td>78682.000000</td>\n",
       "    </tr>\n",
       "    <tr>\n",
       "      <th>mean</th>\n",
       "      <td>2007.506317</td>\n",
       "      <td>880.362485</td>\n",
       "      <td>1594.529029</td>\n",
       "      <td>121.234256</td>\n",
       "      <td>376.759424</td>\n",
       "      <td>201.605717</td>\n",
       "      <td>129.382453</td>\n",
       "      <td>286.832743</td>\n",
       "      <td>3.414355e+03</td>\n",
       "      <td>2364.019706</td>\n",
       "      <td>2867.110620</td>\n",
       "      <td>722.483710</td>\n",
       "      <td>255.525035</td>\n",
       "      <td>769.490783</td>\n",
       "      <td>610.072255</td>\n",
       "      <td>532.467069</td>\n",
       "      <td>2364.019706</td>\n",
       "      <td>1773.563963</td>\n",
       "      <td>1987.260307</td>\n",
       "    </tr>\n",
       "    <tr>\n",
       "      <th>std</th>\n",
       "      <td>5.742768</td>\n",
       "      <td>3928.564794</td>\n",
       "      <td>8930.484664</td>\n",
       "      <td>652.376804</td>\n",
       "      <td>2012.023142</td>\n",
       "      <td>1060.766096</td>\n",
       "      <td>1265.532022</td>\n",
       "      <td>1335.978571</td>\n",
       "      <td>1.841410e+04</td>\n",
       "      <td>11950.068842</td>\n",
       "      <td>12917.944421</td>\n",
       "      <td>3242.170946</td>\n",
       "      <td>1494.643534</td>\n",
       "      <td>3774.703114</td>\n",
       "      <td>2938.387443</td>\n",
       "      <td>6369.159440</td>\n",
       "      <td>11950.068842</td>\n",
       "      <td>8053.684902</td>\n",
       "      <td>10419.629038</td>\n",
       "    </tr>\n",
       "    <tr>\n",
       "      <th>min</th>\n",
       "      <td>1999.000000</td>\n",
       "      <td>-7.760000</td>\n",
       "      <td>-366.645000</td>\n",
       "      <td>0.000000</td>\n",
       "      <td>-21913.000000</td>\n",
       "      <td>0.000000</td>\n",
       "      <td>-98696.000000</td>\n",
       "      <td>-0.006000</td>\n",
       "      <td>1.000000e-04</td>\n",
       "      <td>-1964.999000</td>\n",
       "      <td>0.001000</td>\n",
       "      <td>-0.023000</td>\n",
       "      <td>-25913.000000</td>\n",
       "      <td>-21536.000000</td>\n",
       "      <td>0.001000</td>\n",
       "      <td>-102362.000000</td>\n",
       "      <td>-1964.999000</td>\n",
       "      <td>0.001000</td>\n",
       "      <td>-317.197000</td>\n",
       "    </tr>\n",
       "    <tr>\n",
       "      <th>25%</th>\n",
       "      <td>2002.000000</td>\n",
       "      <td>18.924000</td>\n",
       "      <td>17.038250</td>\n",
       "      <td>1.192000</td>\n",
       "      <td>-0.811000</td>\n",
       "      <td>0.000000</td>\n",
       "      <td>-7.415750</td>\n",
       "      <td>3.281250</td>\n",
       "      <td>3.498000e+01</td>\n",
       "      <td>27.548500</td>\n",
       "      <td>37.363500</td>\n",
       "      <td>0.000000</td>\n",
       "      <td>-2.787000</td>\n",
       "      <td>8.521250</td>\n",
       "      <td>8.889250</td>\n",
       "      <td>-68.282750</td>\n",
       "      <td>27.548500</td>\n",
       "      <td>13.486000</td>\n",
       "      <td>32.872500</td>\n",
       "    </tr>\n",
       "    <tr>\n",
       "      <th>50%</th>\n",
       "      <td>2007.000000</td>\n",
       "      <td>100.449500</td>\n",
       "      <td>103.661000</td>\n",
       "      <td>7.929500</td>\n",
       "      <td>15.034500</td>\n",
       "      <td>7.023000</td>\n",
       "      <td>1.616000</td>\n",
       "      <td>22.820000</td>\n",
       "      <td>2.275118e+02</td>\n",
       "      <td>186.598500</td>\n",
       "      <td>213.203500</td>\n",
       "      <td>7.593500</td>\n",
       "      <td>6.518000</td>\n",
       "      <td>63.581500</td>\n",
       "      <td>43.333000</td>\n",
       "      <td>-1.131000</td>\n",
       "      <td>186.598500</td>\n",
       "      <td>81.988000</td>\n",
       "      <td>168.912000</td>\n",
       "    </tr>\n",
       "    <tr>\n",
       "      <th>75%</th>\n",
       "      <td>2012.000000</td>\n",
       "      <td>431.526750</td>\n",
       "      <td>634.548000</td>\n",
       "      <td>47.971750</td>\n",
       "      <td>139.655250</td>\n",
       "      <td>74.747250</td>\n",
       "      <td>40.144250</td>\n",
       "      <td>131.580500</td>\n",
       "      <td>1.244890e+03</td>\n",
       "      <td>1046.402500</td>\n",
       "      <td>1171.364750</td>\n",
       "      <td>248.760750</td>\n",
       "      <td>87.599000</td>\n",
       "      <td>344.074250</td>\n",
       "      <td>222.817000</td>\n",
       "      <td>146.070000</td>\n",
       "      <td>1046.402500</td>\n",
       "      <td>629.975000</td>\n",
       "      <td>875.522250</td>\n",
       "    </tr>\n",
       "    <tr>\n",
       "      <th>max</th>\n",
       "      <td>2018.000000</td>\n",
       "      <td>169662.000000</td>\n",
       "      <td>374623.000000</td>\n",
       "      <td>28430.000000</td>\n",
       "      <td>81730.000000</td>\n",
       "      <td>62567.000000</td>\n",
       "      <td>104821.000000</td>\n",
       "      <td>65812.000000</td>\n",
       "      <td>1.073391e+06</td>\n",
       "      <td>511729.000000</td>\n",
       "      <td>531864.000000</td>\n",
       "      <td>166250.000000</td>\n",
       "      <td>71230.000000</td>\n",
       "      <td>137106.000000</td>\n",
       "      <td>116866.000000</td>\n",
       "      <td>402089.000000</td>\n",
       "      <td>511729.000000</td>\n",
       "      <td>337980.000000</td>\n",
       "      <td>481580.000000</td>\n",
       "    </tr>\n",
       "  </tbody>\n",
       "</table>\n",
       "</div>"
      ],
      "text/plain": [
       "               year             X1             X2            X3            X4  \\\n",
       "count  78682.000000   78682.000000   78682.000000  78682.000000  78682.000000   \n",
       "mean    2007.506317     880.362485    1594.529029    121.234256    376.759424   \n",
       "std        5.742768    3928.564794    8930.484664    652.376804   2012.023142   \n",
       "min     1999.000000      -7.760000    -366.645000      0.000000 -21913.000000   \n",
       "25%     2002.000000      18.924000      17.038250      1.192000     -0.811000   \n",
       "50%     2007.000000     100.449500     103.661000      7.929500     15.034500   \n",
       "75%     2012.000000     431.526750     634.548000     47.971750    139.655250   \n",
       "max     2018.000000  169662.000000  374623.000000  28430.000000  81730.000000   \n",
       "\n",
       "                 X5             X6            X7            X8             X9  \\\n",
       "count  78682.000000   78682.000000  78682.000000  7.868200e+04   78682.000000   \n",
       "mean     201.605717     129.382453    286.832743  3.414355e+03    2364.019706   \n",
       "std     1060.766096    1265.532022   1335.978571  1.841410e+04   11950.068842   \n",
       "min        0.000000  -98696.000000     -0.006000  1.000000e-04   -1964.999000   \n",
       "25%        0.000000      -7.415750      3.281250  3.498000e+01      27.548500   \n",
       "50%        7.023000       1.616000     22.820000  2.275118e+02     186.598500   \n",
       "75%       74.747250      40.144250    131.580500  1.244890e+03    1046.402500   \n",
       "max    62567.000000  104821.000000  65812.000000  1.073391e+06  511729.000000   \n",
       "\n",
       "                 X10            X11           X12            X13  \\\n",
       "count   78682.000000   78682.000000  78682.000000   78682.000000   \n",
       "mean     2867.110620     722.483710    255.525035     769.490783   \n",
       "std     12917.944421    3242.170946   1494.643534    3774.703114   \n",
       "min         0.001000      -0.023000 -25913.000000  -21536.000000   \n",
       "25%        37.363500       0.000000     -2.787000       8.521250   \n",
       "50%       213.203500       7.593500      6.518000      63.581500   \n",
       "75%      1171.364750     248.760750     87.599000     344.074250   \n",
       "max    531864.000000  166250.000000  71230.000000  137106.000000   \n",
       "\n",
       "                 X14            X15            X16            X17  \\\n",
       "count   78682.000000   78682.000000   78682.000000   78682.000000   \n",
       "mean      610.072255     532.467069    2364.019706    1773.563963   \n",
       "std      2938.387443    6369.159440   11950.068842    8053.684902   \n",
       "min         0.001000 -102362.000000   -1964.999000       0.001000   \n",
       "25%         8.889250     -68.282750      27.548500      13.486000   \n",
       "50%        43.333000      -1.131000     186.598500      81.988000   \n",
       "75%       222.817000     146.070000    1046.402500     629.975000   \n",
       "max    116866.000000  402089.000000  511729.000000  337980.000000   \n",
       "\n",
       "                 X18  \n",
       "count   78682.000000  \n",
       "mean     1987.260307  \n",
       "std     10419.629038  \n",
       "min      -317.197000  \n",
       "25%        32.872500  \n",
       "50%       168.912000  \n",
       "75%       875.522250  \n",
       "max    481580.000000  "
      ]
     },
     "execution_count": 13,
     "metadata": {},
     "output_type": "execute_result"
    },
    {
     "data": {
      "text/html": [
       "<div>\n",
       "<style scoped>\n",
       "    .dataframe tbody tr th:only-of-type {\n",
       "        vertical-align: middle;\n",
       "    }\n",
       "\n",
       "    .dataframe tbody tr th {\n",
       "        vertical-align: top;\n",
       "    }\n",
       "\n",
       "    .dataframe thead th {\n",
       "        text-align: right;\n",
       "    }\n",
       "</style>\n",
       "<table border=\"1\" class=\"dataframe\">\n",
       "  <thead>\n",
       "    <tr style=\"text-align: right;\">\n",
       "      <th></th>\n",
       "      <th>company_name</th>\n",
       "      <th>status_label</th>\n",
       "      <th>year</th>\n",
       "      <th>X1</th>\n",
       "      <th>X2</th>\n",
       "      <th>X3</th>\n",
       "      <th>X4</th>\n",
       "      <th>X5</th>\n",
       "      <th>X6</th>\n",
       "      <th>X7</th>\n",
       "      <th>...</th>\n",
       "      <th>X9</th>\n",
       "      <th>X10</th>\n",
       "      <th>X11</th>\n",
       "      <th>X12</th>\n",
       "      <th>X13</th>\n",
       "      <th>X14</th>\n",
       "      <th>X15</th>\n",
       "      <th>X16</th>\n",
       "      <th>X17</th>\n",
       "      <th>X18</th>\n",
       "    </tr>\n",
       "  </thead>\n",
       "  <tbody>\n",
       "    <tr>\n",
       "      <th>0</th>\n",
       "      <td>C_1</td>\n",
       "      <td>alive</td>\n",
       "      <td>1999</td>\n",
       "      <td>511.267</td>\n",
       "      <td>833.107</td>\n",
       "      <td>18.373</td>\n",
       "      <td>89.031</td>\n",
       "      <td>336.018</td>\n",
       "      <td>35.163</td>\n",
       "      <td>128.348</td>\n",
       "      <td>...</td>\n",
       "      <td>1024.333</td>\n",
       "      <td>740.998</td>\n",
       "      <td>180.447</td>\n",
       "      <td>70.658</td>\n",
       "      <td>191.226</td>\n",
       "      <td>163.816</td>\n",
       "      <td>201.026</td>\n",
       "      <td>1024.333</td>\n",
       "      <td>401.483</td>\n",
       "      <td>935.302</td>\n",
       "    </tr>\n",
       "    <tr>\n",
       "      <th>1</th>\n",
       "      <td>C_1</td>\n",
       "      <td>alive</td>\n",
       "      <td>2000</td>\n",
       "      <td>485.856</td>\n",
       "      <td>713.811</td>\n",
       "      <td>18.577</td>\n",
       "      <td>64.367</td>\n",
       "      <td>320.590</td>\n",
       "      <td>18.531</td>\n",
       "      <td>115.187</td>\n",
       "      <td>...</td>\n",
       "      <td>874.255</td>\n",
       "      <td>701.854</td>\n",
       "      <td>179.987</td>\n",
       "      <td>45.790</td>\n",
       "      <td>160.444</td>\n",
       "      <td>125.392</td>\n",
       "      <td>204.065</td>\n",
       "      <td>874.255</td>\n",
       "      <td>361.642</td>\n",
       "      <td>809.888</td>\n",
       "    </tr>\n",
       "    <tr>\n",
       "      <th>2</th>\n",
       "      <td>C_1</td>\n",
       "      <td>alive</td>\n",
       "      <td>2001</td>\n",
       "      <td>436.656</td>\n",
       "      <td>526.477</td>\n",
       "      <td>22.496</td>\n",
       "      <td>27.207</td>\n",
       "      <td>286.588</td>\n",
       "      <td>-58.939</td>\n",
       "      <td>77.528</td>\n",
       "      <td>...</td>\n",
       "      <td>638.721</td>\n",
       "      <td>710.199</td>\n",
       "      <td>217.699</td>\n",
       "      <td>4.711</td>\n",
       "      <td>112.244</td>\n",
       "      <td>150.464</td>\n",
       "      <td>139.603</td>\n",
       "      <td>638.721</td>\n",
       "      <td>399.964</td>\n",
       "      <td>611.514</td>\n",
       "    </tr>\n",
       "    <tr>\n",
       "      <th>3</th>\n",
       "      <td>C_1</td>\n",
       "      <td>alive</td>\n",
       "      <td>2002</td>\n",
       "      <td>396.412</td>\n",
       "      <td>496.747</td>\n",
       "      <td>27.172</td>\n",
       "      <td>30.745</td>\n",
       "      <td>259.954</td>\n",
       "      <td>-12.410</td>\n",
       "      <td>66.322</td>\n",
       "      <td>...</td>\n",
       "      <td>606.337</td>\n",
       "      <td>686.621</td>\n",
       "      <td>164.658</td>\n",
       "      <td>3.573</td>\n",
       "      <td>109.590</td>\n",
       "      <td>203.575</td>\n",
       "      <td>124.106</td>\n",
       "      <td>606.337</td>\n",
       "      <td>391.633</td>\n",
       "      <td>575.592</td>\n",
       "    </tr>\n",
       "    <tr>\n",
       "      <th>4</th>\n",
       "      <td>C_1</td>\n",
       "      <td>alive</td>\n",
       "      <td>2003</td>\n",
       "      <td>432.204</td>\n",
       "      <td>523.302</td>\n",
       "      <td>26.680</td>\n",
       "      <td>47.491</td>\n",
       "      <td>247.245</td>\n",
       "      <td>3.504</td>\n",
       "      <td>104.661</td>\n",
       "      <td>...</td>\n",
       "      <td>651.958</td>\n",
       "      <td>709.292</td>\n",
       "      <td>248.666</td>\n",
       "      <td>20.811</td>\n",
       "      <td>128.656</td>\n",
       "      <td>131.261</td>\n",
       "      <td>131.884</td>\n",
       "      <td>651.958</td>\n",
       "      <td>407.608</td>\n",
       "      <td>604.467</td>\n",
       "    </tr>\n",
       "  </tbody>\n",
       "</table>\n",
       "<p>5 rows × 21 columns</p>\n",
       "</div>"
      ],
      "text/plain": [
       "  company_name status_label  year       X1       X2      X3      X4       X5  \\\n",
       "0          C_1        alive  1999  511.267  833.107  18.373  89.031  336.018   \n",
       "1          C_1        alive  2000  485.856  713.811  18.577  64.367  320.590   \n",
       "2          C_1        alive  2001  436.656  526.477  22.496  27.207  286.588   \n",
       "3          C_1        alive  2002  396.412  496.747  27.172  30.745  259.954   \n",
       "4          C_1        alive  2003  432.204  523.302  26.680  47.491  247.245   \n",
       "\n",
       "       X6       X7  ...        X9      X10      X11     X12      X13      X14  \\\n",
       "0  35.163  128.348  ...  1024.333  740.998  180.447  70.658  191.226  163.816   \n",
       "1  18.531  115.187  ...   874.255  701.854  179.987  45.790  160.444  125.392   \n",
       "2 -58.939   77.528  ...   638.721  710.199  217.699   4.711  112.244  150.464   \n",
       "3 -12.410   66.322  ...   606.337  686.621  164.658   3.573  109.590  203.575   \n",
       "4   3.504  104.661  ...   651.958  709.292  248.666  20.811  128.656  131.261   \n",
       "\n",
       "       X15       X16      X17      X18  \n",
       "0  201.026  1024.333  401.483  935.302  \n",
       "1  204.065   874.255  361.642  809.888  \n",
       "2  139.603   638.721  399.964  611.514  \n",
       "3  124.106   606.337  391.633  575.592  \n",
       "4  131.884   651.958  407.608  604.467  \n",
       "\n",
       "[5 rows x 21 columns]"
      ]
     },
     "execution_count": 13,
     "metadata": {},
     "output_type": "execute_result"
    },
    {
     "name": "stdout",
     "output_type": "stream",
     "text": [
      "<class 'pandas.core.frame.DataFrame'>\n",
      "RangeIndex: 78682 entries, 0 to 78681\n",
      "Data columns (total 21 columns):\n",
      " #   Column        Non-Null Count  Dtype  \n",
      "---  ------        --------------  -----  \n",
      " 0   company_name  78682 non-null  object \n",
      " 1   status_label  78682 non-null  object \n",
      " 2   year          78682 non-null  int64  \n",
      " 3   X1            78682 non-null  float64\n",
      " 4   X2            78682 non-null  float64\n",
      " 5   X3            78682 non-null  float64\n",
      " 6   X4            78682 non-null  float64\n",
      " 7   X5            78682 non-null  float64\n",
      " 8   X6            78682 non-null  float64\n",
      " 9   X7            78682 non-null  float64\n",
      " 10  X8            78682 non-null  float64\n",
      " 11  X9            78682 non-null  float64\n",
      " 12  X10           78682 non-null  float64\n",
      " 13  X11           78682 non-null  float64\n",
      " 14  X12           78682 non-null  float64\n",
      " 15  X13           78682 non-null  float64\n",
      " 16  X14           78682 non-null  float64\n",
      " 17  X15           78682 non-null  float64\n",
      " 18  X16           78682 non-null  float64\n",
      " 19  X17           78682 non-null  float64\n",
      " 20  X18           78682 non-null  float64\n",
      "dtypes: float64(18), int64(1), object(2)\n",
      "memory usage: 12.6+ MB\n",
      "Duplicates: 0\n",
      "NULLS: 0\n",
      "NAs: 0\n"
     ]
    }
   ],
   "source": [
    "df = pd.read_csv(\"american_bankruptcy.csv\")\n",
    "df.describe()\n",
    "df.head()\n",
    "df.info()\n",
    "print(\"Duplicates:\", df.duplicated().sum())\n",
    "print(\"NULLS:\", df.isnull().sum().sum())\n",
    "print(\"NAs:\", df.isna().sum().sum())"
   ]
  },
  {
   "cell_type": "code",
   "execution_count": 14,
   "id": "eb81db49",
   "metadata": {},
   "outputs": [
    {
     "data": {
      "text/plain": [
       "True"
      ]
     },
     "execution_count": 14,
     "metadata": {},
     "output_type": "execute_result"
    }
   ],
   "source": [
    "df[\"X9\"].equals(df[\"X16\"])"
   ]
  },
  {
   "cell_type": "code",
   "execution_count": 15,
   "id": "a7c3cd6b",
   "metadata": {},
   "outputs": [],
   "source": [
    "df = df.drop('X16', axis=1)"
   ]
  },
  {
   "cell_type": "code",
   "execution_count": 16,
   "id": "01a00782",
   "metadata": {},
   "outputs": [
    {
     "name": "stdout",
     "output_type": "stream",
     "text": [
      "status_label\n",
      "alive     73462\n",
      "failed     5220\n",
      "Name: count, dtype: int64\n",
      "Alive Ratio: 0.9336569990595054\n",
      "Failed Ratio: 0.06634300094049465\n"
     ]
    }
   ],
   "source": [
    "alive_count = df['status_label'].value_counts()['alive']\n",
    "failed_count = df['status_label'].value_counts()['failed']\n",
    "total_count = alive_count + failed_count\n",
    "alive_ratio = alive_count / total_count\n",
    "failed_ratio = failed_count / total_count\n",
    "\n",
    "print(df['status_label'].value_counts())\n",
    "print(\"Alive Ratio:\", alive_ratio) #93%\n",
    "print(\"Failed Ratio:\", failed_ratio) #6%"
   ]
  },
  {
   "cell_type": "markdown",
   "id": "111a6eb3",
   "metadata": {},
   "source": [
    "# Random Forest\n",
    "## No balancing or tuning"
   ]
  },
  {
   "cell_type": "code",
   "execution_count": 17,
   "id": "eca824e3",
   "metadata": {},
   "outputs": [
    {
     "name": "stdout",
     "output_type": "stream",
     "text": [
      "X_train shape: (62945, 17)\n",
      "X_test shape: (15737, 17)\n",
      "y_train shape: (62945,)\n",
      "y_test shape: (15737,)\n"
     ]
    }
   ],
   "source": [
    "X = df.drop(columns=[\"status_label\", \"company_name\", \"year\"])  # Features (all columns except status_label)\n",
    "y = df[\"status_label\"]  # Target column\n",
    "\n",
    "# Split the data: 80% train, 20% test\n",
    "X_train, X_test, y_train, y_test = train_test_split(X, y, test_size=0.2, random_state=99)\n",
    "\n",
    "print(\"X_train shape:\", X_train.shape)\n",
    "print(\"X_test shape:\", X_test.shape)\n",
    "print(\"y_train shape:\", y_train.shape)\n",
    "print(\"y_test shape:\", y_test.shape)"
   ]
  },
  {
   "cell_type": "code",
   "execution_count": 18,
   "id": "d2bcfb37",
   "metadata": {},
   "outputs": [
    {
     "name": "stdout",
     "output_type": "stream",
     "text": [
      "5\n",
      "Fitting 3 folds for each of 1 candidates, totalling 3 fits\n",
      "[CV 1/3] END ..................n_estimators=500;, score=0.937 total time= 1.6min\n",
      "[CV 2/3] END ..................n_estimators=500;, score=0.937 total time= 1.6min\n",
      "[CV 3/3] END ..................n_estimators=500;, score=0.937 total time= 1.6min\n"
     ]
    }
   ],
   "source": [
    "num_features = X_train.shape[1]\n",
    "rsf_size = max(1, num_features // 3)\n",
    "\n",
    "print(rsf_size)\n",
    "\n",
    "rf_grid = RandomForestClassifier(random_state=99,max_features=rsf_size)\n",
    "gr_space = {\n",
    "    'n_estimators': [500]\n",
    "}\n",
    "\n",
    "grid = GridSearchCV(rf_grid, gr_space, cv = 3, scoring='accuracy', verbose = 3)\n",
    "model_grid = grid.fit(X_train, y_train)"
   ]
  },
  {
   "cell_type": "code",
   "execution_count": 19,
   "id": "90e02760",
   "metadata": {},
   "outputs": [
    {
     "name": "stdout",
     "output_type": "stream",
     "text": [
      "Accuracy on train set: 1.0\n",
      "Accuracy on test set: 0.9372815657367987\n",
      "\n",
      "Classification Report on test set:\n",
      "              precision    recall  f1-score   support\n",
      "\n",
      "       alive       0.94      1.00      0.97     14678\n",
      "      failed       0.99      0.07      0.13      1059\n",
      "\n",
      "    accuracy                           0.94     15737\n",
      "   macro avg       0.96      0.53      0.55     15737\n",
      "weighted avg       0.94      0.94      0.91     15737\n",
      "\n"
     ]
    },
    {
     "data": {
      "text/plain": [
       "<Axes: >"
      ]
     },
     "execution_count": 19,
     "metadata": {},
     "output_type": "execute_result"
    },
    {
     "data": {
      "text/plain": [
       "<Axes: >"
      ]
     },
     "execution_count": 19,
     "metadata": {},
     "output_type": "execute_result"
    },
    {
     "name": "stdout",
     "output_type": "stream",
     "text": [
      "Precision: 0.9865\n",
      "Recall: 0.0689\n",
      "False Positives (FP): 1\n",
      "False Negatives (FN): 986\n",
      "True Positives (TP): 73\n",
      "True Negatives (TN): 14677\n"
     ]
    },
    {
     "data": {
      "text/plain": [
       "<Figure size 1000x500 with 0 Axes>"
      ]
     },
     "execution_count": 19,
     "metadata": {},
     "output_type": "execute_result"
    },
    {
     "data": {
      "text/plain": [
       "<Axes: >"
      ]
     },
     "execution_count": 19,
     "metadata": {},
     "output_type": "execute_result"
    },
    {
     "data": {
      "text/plain": [
       "(array([ 0,  1,  2,  3,  4,  5,  6,  7,  8,  9, 10, 11, 12, 13, 14, 15, 16]),\n",
       " [Text(0, 0, 'X8'),\n",
       "  Text(1, 0, 'X15'),\n",
       "  Text(2, 0, 'X3'),\n",
       "  Text(3, 0, 'X1'),\n",
       "  Text(4, 0, 'X7'),\n",
       "  Text(5, 0, 'X13'),\n",
       "  Text(6, 0, 'X17'),\n",
       "  Text(7, 0, 'X6'),\n",
       "  Text(8, 0, 'X10'),\n",
       "  Text(9, 0, 'X14'),\n",
       "  Text(10, 0, 'X2'),\n",
       "  Text(11, 0, 'X5'),\n",
       "  Text(12, 0, 'X11'),\n",
       "  Text(13, 0, 'X18'),\n",
       "  Text(14, 0, 'X4'),\n",
       "  Text(15, 0, 'X12'),\n",
       "  Text(16, 0, 'X9')])"
      ]
     },
     "execution_count": 19,
     "metadata": {},
     "output_type": "execute_result"
    },
    {
     "data": {
      "text/plain": [
       "Text(0.5, 0, 'Feature')"
      ]
     },
     "execution_count": 19,
     "metadata": {},
     "output_type": "execute_result"
    },
    {
     "data": {
      "text/plain": [
       "Text(0, 0.5, 'Importance Score')"
      ]
     },
     "execution_count": 19,
     "metadata": {},
     "output_type": "execute_result"
    },
    {
     "data": {
      "text/plain": [
       "Text(0.5, 1.0, 'Feature Importances in Random Forest')"
      ]
     },
     "execution_count": 19,
     "metadata": {},
     "output_type": "execute_result"
    },
    {
     "data": {
      "image/png": "[encoded data removed]",
      "text/plain": [
       "<Figure size 1200x400 with 4 Axes>"
      ]
     },
     "metadata": {},
     "output_type": "display_data"
    },
    {
     "data": {
      "image/png": "[encoded data removed]",
      "text/plain": [
       "<Figure size 1000x500 with 1 Axes>"
      ]
     },
     "metadata": {},
     "output_type": "display_data"
    }
   ],
   "source": [
    "y_train_pred = model_grid.predict(X_train)\n",
    "y_test_pred = model_grid.predict(X_test)\n",
    "\n",
    "# Evaluate the classifier\n",
    "accuracy = accuracy_score(y_train, y_train_pred)\n",
    "print(\"Accuracy on train set:\", accuracy)\n",
    "\n",
    "accuracy = accuracy_score(y_test, y_test_pred)\n",
    "print(\"Accuracy on test set:\", accuracy)\n",
    "\n",
    "print(\"\\nClassification Report on test set:\")\n",
    "print(classification_report(y_test, y_test_pred))\n",
    "\n",
    "# Plot the Confusion Matrix for Train and Test\n",
    "f, axes = plt.subplots(1, 2, figsize=(12, 4))\n",
    "sns.heatmap(confusion_matrix(y_train, y_train_pred),\n",
    "           annot = True, fmt=\".0f\", annot_kws={\"size\": 18}, ax = axes[0])\n",
    "sns.heatmap(confusion_matrix(y_test, y_test_pred),\n",
    "           annot = True, fmt=\".0f\", annot_kws={\"size\": 18}, ax = axes[1])\n",
    "\n",
    "# Compute precision and recall\n",
    "precision = precision_score(y_test, y_test_pred, pos_label=\"failed\")\n",
    "recall = recall_score(y_test, y_test_pred, pos_label=\"failed\")\n",
    "\n",
    "# Compute confusion matrix\n",
    "y_test_bin = (y_test == \"failed\").astype(int)\n",
    "y_pred_bin = (y_test_pred == \"failed\").astype(int) \n",
    "cm = confusion_matrix(y_test_bin, y_pred_bin)\n",
    "tn, fp, fn, tp = cm.ravel()\n",
    "\n",
    "print(f\"Precision: {precision:.4f}\")\n",
    "print(f\"Recall: {recall:.4f}\")\n",
    "print(f\"False Positives (FP): {fp}\")\n",
    "print(f\"False Negatives (FN): {fn}\")\n",
    "print(f\"True Positives (TP): {tp}\")\n",
    "print(f\"True Negatives (TN): {tn}\")\n",
    "\n",
    "# Plot Feature Importances\n",
    "feature_importances = model_grid.best_estimator_.feature_importances_\n",
    "sorted_idx = np.argsort(feature_importances)[::-1]\n",
    "\n",
    "plt.figure(figsize=(10, 5))\n",
    "sns.barplot(x=np.array(X_train.columns)[sorted_idx], y=feature_importances[sorted_idx], palette=\"viridis\")\n",
    "plt.xticks(rotation=90)\n",
    "plt.xlabel(\"Feature\")\n",
    "plt.ylabel(\"Importance Score\")\n",
    "plt.title(\"Feature Importances in Random Forest\")\n",
    "plt.show()"
   ]
  },
  {
   "cell_type": "markdown",
   "id": "b924d316",
   "metadata": {},
   "source": [
    "## Undersampling on train-set"
   ]
  },
  {
   "cell_type": "code",
   "execution_count": 22,
   "id": "ff989b2a",
   "metadata": {},
   "outputs": [],
   "source": [
    "import pandas as pd\n",
    "from sklearn.utils import resample\n",
    "\n",
    "# Combine X_train and y_train for downsampling\n",
    "train_df = pd.concat([X_train, y_train], axis=1)\n",
    "\n",
    "# Separate majority and minority classes in the training set\n",
    "df_majority = train_df[train_df.status_label == \"alive\"]\n",
    "df_minority = train_df[train_df.status_label == \"failed\"]\n",
    "\n",
    "# Downsample the majority class in the training set\n",
    "df_majority_downsampled = resample(\n",
    "    df_majority, \n",
    "    replace=False, \n",
    "    n_samples=len(df_minority), \n",
    "    random_state=99\n",
    ")\n",
    "\n",
    "# Combine the downsampled majority class with the minority class\n",
    "train_balanced = pd.concat([df_majority_downsampled, df_minority])\n",
    "\n",
    "# Separate features and labels again\n",
    "X_train_re = train_balanced.drop(columns=[\"status_label\"])\n",
    "y_train_re = train_balanced[\"status_label\"]"
   ]
  },
  {
   "cell_type": "code",
   "execution_count": 23,
   "id": "0535dffc",
   "metadata": {},
   "outputs": [
    {
     "name": "stdout",
     "output_type": "stream",
     "text": [
      "5\n",
      "Fitting 3 folds for each of 1 candidates, totalling 3 fits\n",
      "[CV 1/3] END ..................n_estimators=500;, score=0.728 total time=   7.2s\n",
      "[CV 2/3] END ..................n_estimators=500;, score=0.730 total time=   7.6s\n",
      "[CV 3/3] END ..................n_estimators=500;, score=0.731 total time=   8.4s\n"
     ]
    }
   ],
   "source": [
    "num_features = X_train_re.shape[1]\n",
    "rsf_size = max(1, num_features // 3)\n",
    "\n",
    "print(rsf_size)\n",
    "\n",
    "rf_grid = RandomForestClassifier(random_state=99,max_features=rsf_size)\n",
    "gr_space = {\n",
    "    'n_estimators': [500]\n",
    "}\n",
    "\n",
    "grid = GridSearchCV(rf_grid, gr_space, cv = 3, scoring='accuracy', verbose = 3)\n",
    "model_grid = grid.fit(X_train_re, y_train_re)"
   ]
  },
  {
   "cell_type": "code",
   "execution_count": 24,
   "id": "4782bdfd",
   "metadata": {
    "scrolled": true
   },
   "outputs": [
    {
     "name": "stdout",
     "output_type": "stream",
     "text": [
      "Accuracy on train set: 1.0\n",
      "Accuracy on test set: 0.7279023956281375\n",
      "\n",
      "Classification Report on test set:\n",
      "              precision    recall  f1-score   support\n",
      "\n",
      "       alive       0.98      0.72      0.83     14678\n",
      "      failed       0.17      0.78      0.28      1059\n",
      "\n",
      "    accuracy                           0.73     15737\n",
      "   macro avg       0.57      0.75      0.56     15737\n",
      "weighted avg       0.92      0.73      0.80     15737\n",
      "\n"
     ]
    },
    {
     "data": {
      "text/plain": [
       "<Axes: >"
      ]
     },
     "execution_count": 24,
     "metadata": {},
     "output_type": "execute_result"
    },
    {
     "data": {
      "text/plain": [
       "<Axes: >"
      ]
     },
     "execution_count": 24,
     "metadata": {},
     "output_type": "execute_result"
    },
    {
     "name": "stdout",
     "output_type": "stream",
     "text": [
      "Precision: 0.1690\n",
      "Recall: 0.7771\n",
      "False Positives (FP): 4046\n",
      "False Negatives (FN): 236\n",
      "True Positives (TP): 823\n",
      "True Negatives (TN): 10632\n"
     ]
    },
    {
     "data": {
      "text/plain": [
       "<Figure size 1000x500 with 0 Axes>"
      ]
     },
     "execution_count": 24,
     "metadata": {},
     "output_type": "execute_result"
    },
    {
     "data": {
      "text/plain": [
       "<Axes: >"
      ]
     },
     "execution_count": 24,
     "metadata": {},
     "output_type": "execute_result"
    },
    {
     "data": {
      "text/plain": [
       "(array([ 0,  1,  2,  3,  4,  5,  6,  7,  8,  9, 10, 11, 12, 13, 14, 15, 16]),\n",
       " [Text(0, 0, 'X8'),\n",
       "  Text(1, 0, 'X6'),\n",
       "  Text(2, 0, 'X15'),\n",
       "  Text(3, 0, 'X3'),\n",
       "  Text(4, 0, 'X1'),\n",
       "  Text(5, 0, 'X7'),\n",
       "  Text(6, 0, 'X17'),\n",
       "  Text(7, 0, 'X13'),\n",
       "  Text(8, 0, 'X2'),\n",
       "  Text(9, 0, 'X14'),\n",
       "  Text(10, 0, 'X11'),\n",
       "  Text(11, 0, 'X12'),\n",
       "  Text(12, 0, 'X10'),\n",
       "  Text(13, 0, 'X5'),\n",
       "  Text(14, 0, 'X18'),\n",
       "  Text(15, 0, 'X4'),\n",
       "  Text(16, 0, 'X9')])"
      ]
     },
     "execution_count": 24,
     "metadata": {},
     "output_type": "execute_result"
    },
    {
     "data": {
      "text/plain": [
       "Text(0.5, 0, 'Feature')"
      ]
     },
     "execution_count": 24,
     "metadata": {},
     "output_type": "execute_result"
    },
    {
     "data": {
      "text/plain": [
       "Text(0, 0.5, 'Importance Score')"
      ]
     },
     "execution_count": 24,
     "metadata": {},
     "output_type": "execute_result"
    },
    {
     "data": {
      "text/plain": [
       "Text(0.5, 1.0, 'Feature Importances in Random Forest')"
      ]
     },
     "execution_count": 24,
     "metadata": {},
     "output_type": "execute_result"
    },
    {
     "data": {
      "image/png": "[encoded data removed]",
      "text/plain": [
       "<Figure size 1200x400 with 4 Axes>"
      ]
     },
     "metadata": {},
     "output_type": "display_data"
    },
    {
     "data": {
      "image/png": "[encoded data removed]",
      "text/plain": [
       "<Figure size 1000x500 with 1 Axes>"
      ]
     },
     "metadata": {},
     "output_type": "display_data"
    }
   ],
   "source": [
    "y_train_pred = model_grid.predict(X_train_re)\n",
    "y_test_pred = model_grid.predict(X_test)\n",
    "\n",
    "# Evaluate the classifier\n",
    "accuracy = accuracy_score(y_train_re, y_train_pred)\n",
    "print(\"Accuracy on train set:\", accuracy)\n",
    "\n",
    "accuracy = accuracy_score(y_test, y_test_pred)\n",
    "print(\"Accuracy on test set:\", accuracy)\n",
    "\n",
    "print(\"\\nClassification Report on test set:\")\n",
    "print(classification_report(y_test, y_test_pred))\n",
    "\n",
    "# Plot the Confusion Matrix for Train and Test\n",
    "f, axes = plt.subplots(1, 2, figsize=(12, 4))\n",
    "sns.heatmap(confusion_matrix(y_train_re, y_train_pred),\n",
    "           annot = True, fmt=\".0f\", annot_kws={\"size\": 18}, ax = axes[0])\n",
    "sns.heatmap(confusion_matrix(y_test, y_test_pred),\n",
    "           annot = True, fmt=\".0f\", annot_kws={\"size\": 18}, ax = axes[1])\n",
    "\n",
    "# Compute precision and recall\n",
    "precision = precision_score(y_test, y_test_pred, pos_label=\"failed\")\n",
    "recall = recall_score(y_test, y_test_pred, pos_label=\"failed\")\n",
    "\n",
    "# Compute confusion matrix\n",
    "y_test_bin = (y_test == \"failed\").astype(int)\n",
    "y_pred_bin = (y_test_pred == \"failed\").astype(int) \n",
    "cm = confusion_matrix(y_test_bin, y_pred_bin)\n",
    "tn, fp, fn, tp = cm.ravel()\n",
    "\n",
    "print(f\"Precision: {precision:.4f}\")\n",
    "print(f\"Recall: {recall:.4f}\")\n",
    "print(f\"False Positives (FP): {fp}\")\n",
    "print(f\"False Negatives (FN): {fn}\")\n",
    "print(f\"True Positives (TP): {tp}\")\n",
    "print(f\"True Negatives (TN): {tn}\")\n",
    "\n",
    "# Plot Feature Importances\n",
    "feature_importances = model_grid.best_estimator_.feature_importances_\n",
    "sorted_idx = np.argsort(feature_importances)[::-1]\n",
    "\n",
    "plt.figure(figsize=(10, 5))\n",
    "sns.barplot(x=np.array(X_train_re.columns)[sorted_idx], y=feature_importances[sorted_idx], palette=\"viridis\")\n",
    "plt.xticks(rotation=90)\n",
    "plt.xlabel(\"Feature\")\n",
    "plt.ylabel(\"Importance Score\")\n",
    "plt.title(\"Feature Importances in Random Forest\")\n",
    "plt.show()"
   ]
  },
  {
   "cell_type": "markdown",
   "id": "1c206e55",
   "metadata": {},
   "source": [
    "### Threshold Tuning"
   ]
  },
  {
   "cell_type": "code",
   "execution_count": 25,
   "id": "5b0f3f0b",
   "metadata": {},
   "outputs": [],
   "source": [
    "y_probs = model_grid.predict_proba(X_test)[:, 1]"
   ]
  },
  {
   "cell_type": "code",
   "execution_count": 26,
   "id": "c4f38e49",
   "metadata": {},
   "outputs": [
    {
     "name": "stdout",
     "output_type": "stream",
     "text": [
      "Optimal Threshold: 0.524\n"
     ]
    }
   ],
   "source": [
    "from sklearn.metrics import roc_curve\n",
    "import numpy as np\n",
    "\n",
    "fpr, tpr, thresholds = roc_curve(y_test_bin, y_probs)\n",
    "\n",
    "# Choose the threshold that gives the best recall-precision tradeoff\n",
    "best_threshold = thresholds[np.argmax(tpr - fpr)]\n",
    "\n",
    "print(f\"Optimal Threshold: {best_threshold}\")"
   ]
  },
  {
   "cell_type": "code",
   "execution_count": 27,
   "id": "30730b89",
   "metadata": {},
   "outputs": [],
   "source": [
    "new_threshold = 0.524\n",
    "y_pred_adjusted = (y_probs > new_threshold).astype(int)"
   ]
  },
  {
   "cell_type": "code",
   "execution_count": 28,
   "id": "8aa27539",
   "metadata": {},
   "outputs": [
    {
     "name": "stdout",
     "output_type": "stream",
     "text": [
      "[0 1]\n",
      "              precision    recall  f1-score   support\n",
      "\n",
      "           0       0.98      0.76      0.86     14678\n",
      "           1       0.19      0.75      0.30      1059\n",
      "\n",
      "    accuracy                           0.76     15737\n",
      "   macro avg       0.58      0.75      0.58     15737\n",
      "weighted avg       0.92      0.76      0.82     15737\n",
      "\n",
      "Accuracy on test set: 0.761580987481731\n"
     ]
    },
    {
     "data": {
      "text/plain": [
       "<Axes: >"
      ]
     },
     "execution_count": 28,
     "metadata": {},
     "output_type": "execute_result"
    },
    {
     "data": {
      "text/plain": [
       "<Axes: >"
      ]
     },
     "execution_count": 28,
     "metadata": {},
     "output_type": "execute_result"
    },
    {
     "name": "stdout",
     "output_type": "stream",
     "text": [
      "Precision: 0.1850\n",
      "Recall: 0.7469\n",
      "False Positives (FP): 3484\n",
      "False Negatives (FN): 268\n",
      "True Positives (TP): 791\n",
      "True Negatives (TN): 11194\n"
     ]
    },
    {
     "data": {
      "image/png": "[encoded data removed]",
      "text/plain": [
       "<Figure size 1200x400 with 4 Axes>"
      ]
     },
     "metadata": {},
     "output_type": "display_data"
    }
   ],
   "source": [
    "from sklearn.metrics import classification_report\n",
    "y_test_bin = (y_test == \"failed\").astype(int)\n",
    "print(np.unique(y_pred_adjusted))  # Should only contain 0 and 1\n",
    "print(classification_report(y_test_bin, y_pred_adjusted))\n",
    "\n",
    "accuracy = accuracy_score(y_test_bin, y_pred_adjusted)\n",
    "print(\"Accuracy on test set:\", accuracy)\n",
    "\n",
    "# Compute the confusion matrix\n",
    "f, axes = plt.subplots(1, 2, figsize=(12, 4))\n",
    "sns.heatmap(confusion_matrix(y_train_re, y_train_pred),\n",
    "           annot = True, fmt=\".0f\", annot_kws={\"size\": 18}, ax = axes[0])\n",
    "sns.heatmap(confusion_matrix(y_test_bin, y_pred_adjusted),\n",
    "           annot = True, fmt=\".0f\", annot_kws={\"size\": 18}, ax = axes[1])\n",
    "\n",
    "# Compute precision and recall\n",
    "precision = precision_score(y_test_bin, y_pred_adjusted)\n",
    "recall = recall_score(y_test_bin, y_pred_adjusted)\n",
    "\n",
    "# Compute confusion matrix\n",
    "y_test_bin = (y_test == \"failed\").astype(int)  # Convert \"failed\" → 1, \"alive\" → 0\n",
    "y_pred_bin = (y_test_pred == \"failed\").astype(int) \n",
    "cm = confusion_matrix(y_test_bin, y_pred_adjusted)\n",
    "tn, fp, fn, tp = cm.ravel()\n",
    "\n",
    "print(f\"Precision: {precision:.4f}\")\n",
    "print(f\"Recall: {recall:.4f}\")\n",
    "print(f\"False Positives (FP): {fp}\")\n",
    "print(f\"False Negatives (FN): {fn}\")\n",
    "print(f\"True Positives (TP): {tp}\")\n",
    "print(f\"True Negatives (TN): {tn}\")"
   ]
  },
  {
   "cell_type": "markdown",
   "id": "9c8b1f87",
   "metadata": {},
   "source": [
    "## SMOTE (with adjusted sampling strategy)"
   ]
  },
  {
   "cell_type": "code",
   "execution_count": 29,
   "id": "5e41477b",
   "metadata": {},
   "outputs": [],
   "source": [
    "smote = SMOTE(random_state=99,sampling_strategy=0.5)\n",
    "X_train_SMOTE, y_train_SMOTE = smote.fit_resample(X_train, y_train)"
   ]
  },
  {
   "cell_type": "code",
   "execution_count": 30,
   "id": "d680d13a",
   "metadata": {},
   "outputs": [
    {
     "name": "stdout",
     "output_type": "stream",
     "text": [
      "5\n",
      "Fitting 3 folds for each of 3 candidates, totalling 9 fits\n",
      "[CV 1/3] END min_samples_leaf=1, n_estimators=500;, score=0.925 total time= 2.0min\n",
      "[CV 2/3] END min_samples_leaf=1, n_estimators=500;, score=0.945 total time= 2.0min\n",
      "[CV 3/3] END min_samples_leaf=1, n_estimators=500;, score=0.945 total time= 2.0min\n",
      "[CV 1/3] END min_samples_leaf=3, n_estimators=500;, score=0.909 total time= 2.0min\n",
      "[CV 2/3] END min_samples_leaf=3, n_estimators=500;, score=0.933 total time= 1.9min\n",
      "[CV 3/3] END min_samples_leaf=3, n_estimators=500;, score=0.933 total time= 2.0min\n",
      "[CV 1/3] END min_samples_leaf=5, n_estimators=500;, score=0.895 total time= 2.0min\n",
      "[CV 2/3] END min_samples_leaf=5, n_estimators=500;, score=0.920 total time= 1.8min\n",
      "[CV 3/3] END min_samples_leaf=5, n_estimators=500;, score=0.919 total time= 1.8min\n"
     ]
    }
   ],
   "source": [
    "num_features = X_train.shape[1]\n",
    "rsf_size = max(1, num_features // 3)\n",
    "\n",
    "print(rsf_size)\n",
    "\n",
    "rf_grid = RandomForestClassifier(random_state=99,max_features=rsf_size)\n",
    "gr_space = {\n",
    "    'n_estimators': [500],\n",
    "    'min_samples_leaf':[1,3,5]\n",
    "}\n",
    "\n",
    "grid = GridSearchCV(rf_grid, gr_space, cv = 3, scoring='accuracy', verbose = 3)\n",
    "model_grid = grid.fit(X_train_SMOTE, y_train_SMOTE)"
   ]
  },
  {
   "cell_type": "code",
   "execution_count": 31,
   "id": "e6e3e0ed",
   "metadata": {
    "collapsed": true
   },
   "outputs": [
    {
     "name": "stdout",
     "output_type": "stream",
     "text": [
      "Accuracy on train set: 1.0\n",
      "Accuracy on test set: 0.9366461206074855\n",
      "\n",
      "Classification Report on test set:\n",
      "              precision    recall  f1-score   support\n",
      "\n",
      "       alive       0.95      0.98      0.97     14678\n",
      "      failed       0.54      0.36      0.43      1059\n",
      "\n",
      "    accuracy                           0.94     15737\n",
      "   macro avg       0.75      0.67      0.70     15737\n",
      "weighted avg       0.93      0.94      0.93     15737\n",
      "\n"
     ]
    },
    {
     "data": {
      "text/plain": [
       "<Axes: >"
      ]
     },
     "execution_count": 31,
     "metadata": {},
     "output_type": "execute_result"
    },
    {
     "data": {
      "text/plain": [
       "<Axes: >"
      ]
     },
     "execution_count": 31,
     "metadata": {},
     "output_type": "execute_result"
    },
    {
     "name": "stdout",
     "output_type": "stream",
     "text": [
      "Precision: 0.5445\n",
      "Recall: 0.3579\n",
      "False Positives (FP): 317\n",
      "False Negatives (FN): 680\n",
      "True Positives (TP): 379\n",
      "True Negatives (TN): 14361\n"
     ]
    },
    {
     "data": {
      "text/plain": [
       "<Figure size 1000x500 with 0 Axes>"
      ]
     },
     "execution_count": 31,
     "metadata": {},
     "output_type": "execute_result"
    },
    {
     "data": {
      "text/plain": [
       "<Axes: >"
      ]
     },
     "execution_count": 31,
     "metadata": {},
     "output_type": "execute_result"
    },
    {
     "data": {
      "text/plain": [
       "(array([ 0,  1,  2,  3,  4,  5,  6,  7,  8,  9, 10, 11, 12, 13, 14, 15, 16]),\n",
       " [Text(0, 0, 'X8'),\n",
       "  Text(1, 0, 'X11'),\n",
       "  Text(2, 0, 'X15'),\n",
       "  Text(3, 0, 'X5'),\n",
       "  Text(4, 0, 'X6'),\n",
       "  Text(5, 0, 'X3'),\n",
       "  Text(6, 0, 'X13'),\n",
       "  Text(7, 0, 'X17'),\n",
       "  Text(8, 0, 'X2'),\n",
       "  Text(9, 0, 'X1'),\n",
       "  Text(10, 0, 'X7'),\n",
       "  Text(11, 0, 'X10'),\n",
       "  Text(12, 0, 'X18'),\n",
       "  Text(13, 0, 'X14'),\n",
       "  Text(14, 0, 'X9'),\n",
       "  Text(15, 0, 'X12'),\n",
       "  Text(16, 0, 'X4')])"
      ]
     },
     "execution_count": 31,
     "metadata": {},
     "output_type": "execute_result"
    },
    {
     "data": {
      "text/plain": [
       "Text(0.5, 0, 'Feature')"
      ]
     },
     "execution_count": 31,
     "metadata": {},
     "output_type": "execute_result"
    },
    {
     "data": {
      "text/plain": [
       "Text(0, 0.5, 'Importance Score')"
      ]
     },
     "execution_count": 31,
     "metadata": {},
     "output_type": "execute_result"
    },
    {
     "data": {
      "text/plain": [
       "Text(0.5, 1.0, 'Feature Importances in Random Forest')"
      ]
     },
     "execution_count": 31,
     "metadata": {},
     "output_type": "execute_result"
    },
    {
     "data": {
      "image/png": "[encoded data removed]",
      "text/plain": [
       "<Figure size 1200x400 with 4 Axes>"
      ]
     },
     "metadata": {},
     "output_type": "display_data"
    },
    {
     "data": {
      "image/png": "[encoded data removed]",
      "text/plain": [
       "<Figure size 1000x500 with 1 Axes>"
      ]
     },
     "metadata": {},
     "output_type": "display_data"
    }
   ],
   "source": [
    "y_train_pred = model_grid.predict(X_train_SMOTE)\n",
    "y_test_pred = model_grid.predict(X_test)\n",
    "\n",
    "# Evaluate the classifier\n",
    "accuracy = accuracy_score(y_train_SMOTE, y_train_pred)\n",
    "print(\"Accuracy on train set:\", accuracy)\n",
    "\n",
    "accuracy = accuracy_score(y_test, y_test_pred)\n",
    "print(\"Accuracy on test set:\", accuracy)\n",
    "\n",
    "print(\"\\nClassification Report on test set:\")\n",
    "print(classification_report(y_test, y_test_pred))\n",
    "\n",
    "# Plot the Confusion Matrix for Train and Test\n",
    "f, axes = plt.subplots(1, 2, figsize=(12, 4))\n",
    "sns.heatmap(confusion_matrix(y_train_SMOTE, y_train_pred),\n",
    "           annot = True, fmt=\".0f\", annot_kws={\"size\": 18}, ax = axes[0])\n",
    "sns.heatmap(confusion_matrix(y_test, y_test_pred),\n",
    "           annot = True, fmt=\".0f\", annot_kws={\"size\": 18}, ax = axes[1])\n",
    "\n",
    "# Compute precision and recall\n",
    "precision = precision_score(y_test, y_test_pred, pos_label=\"failed\")\n",
    "recall = recall_score(y_test, y_test_pred, pos_label=\"failed\")\n",
    "\n",
    "# Compute confusion matrix\n",
    "y_test_bin = (y_test == \"failed\").astype(int)  # Convert \"failed\" → 1, \"alive\" → 0\n",
    "y_pred_bin = (y_test_pred == \"failed\").astype(int) \n",
    "cm = confusion_matrix(y_test_bin, y_pred_bin)\n",
    "tn, fp, fn, tp = cm.ravel()\n",
    "\n",
    "print(f\"Precision: {precision:.4f}\")\n",
    "print(f\"Recall: {recall:.4f}\")\n",
    "print(f\"False Positives (FP): {fp}\")\n",
    "print(f\"False Negatives (FN): {fn}\")\n",
    "print(f\"True Positives (TP): {tp}\")\n",
    "print(f\"True Negatives (TN): {tn}\")\n",
    "\n",
    "# Plot Feature Importances\n",
    "feature_importances = model_grid.best_estimator_.feature_importances_\n",
    "sorted_idx = np.argsort(feature_importances)[::-1]\n",
    "\n",
    "plt.figure(figsize=(10, 5))\n",
    "sns.barplot(x=np.array(X_train_SMOTE.columns)[sorted_idx], y=feature_importances[sorted_idx], palette=\"viridis\")\n",
    "plt.xticks(rotation=90)\n",
    "plt.xlabel(\"Feature\")\n",
    "plt.ylabel(\"Importance Score\")\n",
    "plt.title(\"Feature Importances in Random Forest\")\n",
    "plt.show()"
   ]
  },
  {
   "cell_type": "code",
   "execution_count": 32,
   "id": "a4e60836",
   "metadata": {},
   "outputs": [],
   "source": [
    "y_probs = model_grid.predict_proba(X_test)[:, 1]"
   ]
  },
  {
   "cell_type": "code",
   "execution_count": 35,
   "id": "18334e56",
   "metadata": {},
   "outputs": [
    {
     "name": "stdout",
     "output_type": "stream",
     "text": [
      "Optimal Threshold: 0.212\n"
     ]
    }
   ],
   "source": [
    "from sklearn.metrics import roc_curve\n",
    "import numpy as np\n",
    "\n",
    "fpr, tpr, thresholds = roc_curve(y_test_bin, y_probs)\n",
    "\n",
    "# Choose the threshold that gives the best recall-precision tradeoff\n",
    "best_threshold = thresholds[np.argmax(tpr - fpr)]\n",
    "\n",
    "print(f\"Optimal Threshold: {best_threshold}\")"
   ]
  },
  {
   "cell_type": "code",
   "execution_count": 41,
   "id": "cc15bcbd",
   "metadata": {},
   "outputs": [],
   "source": [
    "new_threshold = 0.212\n",
    "y_pred_adjusted = (y_probs > new_threshold).astype(int)"
   ]
  },
  {
   "cell_type": "code",
   "execution_count": 42,
   "id": "80acca0f",
   "metadata": {},
   "outputs": [
    {
     "name": "stdout",
     "output_type": "stream",
     "text": [
      "[0 1]\n",
      "              precision    recall  f1-score   support\n",
      "\n",
      "           0       0.98      0.78      0.87     14678\n",
      "           1       0.20      0.78      0.32      1059\n",
      "\n",
      "    accuracy                           0.78     15737\n",
      "   macro avg       0.59      0.78      0.59     15737\n",
      "weighted avg       0.93      0.78      0.83     15737\n",
      "\n",
      "Accuracy on test set: 0.777657749253352\n"
     ]
    },
    {
     "data": {
      "text/plain": [
       "<Axes: >"
      ]
     },
     "execution_count": 42,
     "metadata": {},
     "output_type": "execute_result"
    },
    {
     "data": {
      "text/plain": [
       "<Axes: >"
      ]
     },
     "execution_count": 42,
     "metadata": {},
     "output_type": "execute_result"
    },
    {
     "name": "stdout",
     "output_type": "stream",
     "text": [
      "Precision: 0.2021\n",
      "Recall: 0.7819\n",
      "False Positives (FP): 3268\n",
      "False Negatives (FN): 231\n",
      "True Positives (TP): 828\n",
      "True Negatives (TN): 11410\n"
     ]
    },
    {
     "data": {
      "image/png": "[encoded data removed]",
      "text/plain": [
       "<Figure size 1200x400 with 4 Axes>"
      ]
     },
     "metadata": {},
     "output_type": "display_data"
    }
   ],
   "source": [
    "from sklearn.metrics import classification_report\n",
    "y_test_bin = (y_test == \"failed\").astype(int)\n",
    "print(np.unique(y_pred_adjusted))  # Should only contain 0 and 1\n",
    "print(classification_report(y_test_bin, y_pred_adjusted))\n",
    "\n",
    "accuracy = accuracy_score(y_test_bin, y_pred_adjusted)\n",
    "print(\"Accuracy on test set:\", accuracy)\n",
    "\n",
    "# Compute the confusion matrix\n",
    "f, axes = plt.subplots(1, 2, figsize=(12, 4))\n",
    "sns.heatmap(confusion_matrix(y_train_SMOTE, y_train_pred),\n",
    "           annot = True, fmt=\".0f\", annot_kws={\"size\": 18}, ax = axes[0])\n",
    "sns.heatmap(confusion_matrix(y_test_bin, y_pred_adjusted),\n",
    "           annot = True, fmt=\".0f\", annot_kws={\"size\": 18}, ax = axes[1])\n",
    "\n",
    "# Compute precision and recall\n",
    "precision = precision_score(y_test_bin, y_pred_adjusted)\n",
    "recall = recall_score(y_test_bin, y_pred_adjusted)\n",
    "\n",
    "# Compute confusion matrix\n",
    "y_test_bin = (y_test == \"failed\").astype(int)  # Convert \"failed\" → 1, \"alive\" → 0\n",
    "y_pred_bin = (y_test_pred == \"failed\").astype(int) \n",
    "cm = confusion_matrix(y_test_bin, y_pred_adjusted)\n",
    "tn, fp, fn, tp = cm.ravel()\n",
    "\n",
    "print(f\"Precision: {precision:.4f}\")\n",
    "print(f\"Recall: {recall:.4f}\")\n",
    "print(f\"False Positives (FP): {fp}\")\n",
    "print(f\"False Negatives (FN): {fn}\")\n",
    "print(f\"True Positives (TP): {tp}\")\n",
    "print(f\"True Negatives (TN): {tn}\")"
   ]
  },
  {
   "cell_type": "markdown",
   "id": "44640514",
   "metadata": {},
   "source": [
    "# Z-Score"
   ]
  },
  {
   "cell_type": "markdown",
   "id": "8c88d211",
   "metadata": {},
   "source": [
    "## Assuming 'Grey' Zone is Alive"
   ]
  },
  {
   "cell_type": "code",
   "execution_count": 44,
   "id": "61d5f4cb",
   "metadata": {
    "scrolled": true
   },
   "outputs": [
    {
     "data": {
      "text/html": [
       "<div>\n",
       "<style scoped>\n",
       "    .dataframe tbody tr th:only-of-type {\n",
       "        vertical-align: middle;\n",
       "    }\n",
       "\n",
       "    .dataframe tbody tr th {\n",
       "        vertical-align: top;\n",
       "    }\n",
       "\n",
       "    .dataframe thead th {\n",
       "        text-align: right;\n",
       "    }\n",
       "</style>\n",
       "<table border=\"1\" class=\"dataframe\">\n",
       "  <thead>\n",
       "    <tr style=\"text-align: right;\">\n",
       "      <th></th>\n",
       "      <th>year</th>\n",
       "      <th>status_label</th>\n",
       "      <th>ZX1</th>\n",
       "      <th>ZX2</th>\n",
       "      <th>ZX3</th>\n",
       "      <th>ZX4</th>\n",
       "      <th>ZX5</th>\n",
       "      <th>Z</th>\n",
       "      <th>Z_pred</th>\n",
       "    </tr>\n",
       "  </thead>\n",
       "  <tbody>\n",
       "    <tr>\n",
       "      <th>0</th>\n",
       "      <td>1999</td>\n",
       "      <td>alive</td>\n",
       "      <td>0.468896</td>\n",
       "      <td>0.271291</td>\n",
       "      <td>0.095355</td>\n",
       "      <td>0.928438</td>\n",
       "      <td>1.382369</td>\n",
       "      <td>3.196587</td>\n",
       "      <td>Low</td>\n",
       "    </tr>\n",
       "    <tr>\n",
       "      <th>1</th>\n",
       "      <td>2000</td>\n",
       "      <td>alive</td>\n",
       "      <td>0.513588</td>\n",
       "      <td>0.290751</td>\n",
       "      <td>0.065241</td>\n",
       "      <td>1.042794</td>\n",
       "      <td>1.245637</td>\n",
       "      <td>3.109968</td>\n",
       "      <td>Low</td>\n",
       "    </tr>\n",
       "    <tr>\n",
       "      <th>2</th>\n",
       "      <td>2001</td>\n",
       "      <td>alive</td>\n",
       "      <td>0.402974</td>\n",
       "      <td>0.196569</td>\n",
       "      <td>0.006633</td>\n",
       "      <td>0.911564</td>\n",
       "      <td>0.899355</td>\n",
       "      <td>2.226949</td>\n",
       "      <td>Grey</td>\n",
       "    </tr>\n",
       "    <tr>\n",
       "      <th>3</th>\n",
       "      <td>2002</td>\n",
       "      <td>alive</td>\n",
       "      <td>0.280849</td>\n",
       "      <td>0.180749</td>\n",
       "      <td>0.005204</td>\n",
       "      <td>0.365979</td>\n",
       "      <td>0.883074</td>\n",
       "      <td>1.709901</td>\n",
       "      <td>High</td>\n",
       "    </tr>\n",
       "    <tr>\n",
       "      <th>4</th>\n",
       "      <td>2003</td>\n",
       "      <td>alive</td>\n",
       "      <td>0.424286</td>\n",
       "      <td>0.185938</td>\n",
       "      <td>0.029341</td>\n",
       "      <td>0.757853</td>\n",
       "      <td>0.919167</td>\n",
       "      <td>2.240159</td>\n",
       "      <td>Grey</td>\n",
       "    </tr>\n",
       "  </tbody>\n",
       "</table>\n",
       "</div>"
      ],
      "text/plain": [
       "   year status_label       ZX1       ZX2       ZX3       ZX4       ZX5  \\\n",
       "0  1999        alive  0.468896  0.271291  0.095355  0.928438  1.382369   \n",
       "1  2000        alive  0.513588  0.290751  0.065241  1.042794  1.245637   \n",
       "2  2001        alive  0.402974  0.196569  0.006633  0.911564  0.899355   \n",
       "3  2002        alive  0.280849  0.180749  0.005204  0.365979  0.883074   \n",
       "4  2003        alive  0.424286  0.185938  0.029341  0.757853  0.919167   \n",
       "\n",
       "          Z Z_pred  \n",
       "0  3.196587    Low  \n",
       "1  3.109968    Low  \n",
       "2  2.226949   Grey  \n",
       "3  1.709901   High  \n",
       "4  2.240159   Grey  "
      ]
     },
     "execution_count": 44,
     "metadata": {},
     "output_type": "execute_result"
    },
    {
     "data": {
      "text/plain": [
       "Z_pred\n",
       "Low     36479\n",
       "High    28667\n",
       "Grey    13536\n",
       "Name: count, dtype: int64"
      ]
     },
     "execution_count": 44,
     "metadata": {},
     "output_type": "execute_result"
    }
   ],
   "source": [
    "df2 = pd.read_csv(\"american_bankruptcy.csv\")\n",
    "df2['ZX1'] = (df2[\"X1\"] - df2[\"X14\"]) / df2[\"X10\"] # (Current Assets - Current Liabilities) / Total Assets\n",
    "df2['ZX2'] = df2['X15']/df2['X10'] # Retained Earnings / Total Assets\n",
    "df2['ZX3'] = df2[\"X12\"]/df2['X10'] # EBIT / Total Assets\n",
    "df2['ZX4'] = df2['X8']/df2['X17'] # Market Captitalization / Total Liabilities\n",
    "df2['ZX5'] = df2['X9']/df2['X10'] # Sales / Total Assets\n",
    "\n",
    "df2[\"Z\"] = 1.2*df2[\"ZX1\"] + 1.4*df2[\"ZX2\"] + 3.3*df2[\"ZX3\"] + 0.6*df2[\"ZX4\"] + 1*df2[\"ZX5\"]\n",
    "\n",
    "\n",
    "# Define conditions\n",
    "conditions = [\n",
    "    df2[\"Z\"] < 1.8,  # High risk\n",
    "    df2[\"Z\"] > 3.0   # Low risk\n",
    "]\n",
    "\n",
    "# Define corresponding labels\n",
    "labels = ['High', 'Low']\n",
    "\n",
    "# Create the column using np.select, with default as 'Grey'\n",
    "df2[\"Z_pred\"] = np.select(conditions, labels, default='Grey')\n",
    "\n",
    "# Remove unnecessary columns \n",
    "df2 = df2[[\"year\",\"status_label\",\"ZX1\",\"ZX2\",\"ZX3\",\"ZX4\",\"ZX5\",\"Z\",\"Z_pred\"]]\n",
    "df2.head()\n",
    "df2[\"Z_pred\"].value_counts()"
   ]
  },
  {
   "cell_type": "markdown",
   "id": "43e3fd31",
   "metadata": {},
   "source": [
    "### Whole Dataset"
   ]
  },
  {
   "cell_type": "code",
   "execution_count": 45,
   "id": "eeb606b4",
   "metadata": {
    "scrolled": true
   },
   "outputs": [
    {
     "data": {
      "text/plain": [
       "Z_pred\n",
       "0    50015\n",
       "1    28667\n",
       "Name: count, dtype: int64"
      ]
     },
     "execution_count": 45,
     "metadata": {},
     "output_type": "execute_result"
    },
    {
     "name": "stdout",
     "output_type": "stream",
     "text": [
      "Classification Report of Z-Score Model:\n",
      "               precision    recall  f1-score   support\n",
      "\n",
      "           0       0.95      0.65      0.77     73462\n",
      "           1       0.10      0.55      0.17      5220\n",
      "\n",
      "    accuracy                           0.64     78682\n",
      "   macro avg       0.53      0.60      0.47     78682\n",
      "weighted avg       0.90      0.64      0.73     78682\n",
      "\n"
     ]
    },
    {
     "data": {
      "text/plain": [
       "<Axes: >"
      ]
     },
     "execution_count": 45,
     "metadata": {},
     "output_type": "execute_result"
    },
    {
     "data": {
      "image/png": "[encoded data removed]",
      "text/plain": [
       "<Figure size 640x480 with 2 Axes>"
      ]
     },
     "metadata": {},
     "output_type": "display_data"
    }
   ],
   "source": [
    "# assume grey and low risk is alive, high risk is failed\n",
    "df2['Z_pred'] = df2['Z_pred'].apply(lambda x: 1 if x == 'High' else 0)\n",
    "\n",
    "# Look at distribution\n",
    "df2['Z_pred'].value_counts()\n",
    "\n",
    "# Convert true y values to 0 and 1\n",
    "true_y = df2[\"status_label\"].map({\"alive\": 0, \"failed\": 1})\n",
    "print(\"Classification Report of Z-Score Model:\\n\", classification_report(true_y, df2['Z_pred']))\n",
    "sns.heatmap(confusion_matrix(true_y, df2['Z_pred']),\n",
    "                   annot = True, fmt=\".0f\", annot_kws={\"size\": 18})"
   ]
  },
  {
   "cell_type": "markdown",
   "id": "9c9cfbb9",
   "metadata": {},
   "source": [
    "### Test Set"
   ]
  },
  {
   "cell_type": "code",
   "execution_count": 47,
   "id": "ebb01f58",
   "metadata": {
    "scrolled": false
   },
   "outputs": [
    {
     "data": {
      "text/plain": [
       "Z_pred\n",
       "0    9940\n",
       "1    5797\n",
       "Name: count, dtype: int64"
      ]
     },
     "execution_count": 47,
     "metadata": {},
     "output_type": "execute_result"
    },
    {
     "data": {
      "text/html": [
       "<div>\n",
       "<style scoped>\n",
       "    .dataframe tbody tr th:only-of-type {\n",
       "        vertical-align: middle;\n",
       "    }\n",
       "\n",
       "    .dataframe tbody tr th {\n",
       "        vertical-align: top;\n",
       "    }\n",
       "\n",
       "    .dataframe thead th {\n",
       "        text-align: right;\n",
       "    }\n",
       "</style>\n",
       "<table border=\"1\" class=\"dataframe\">\n",
       "  <thead>\n",
       "    <tr style=\"text-align: right;\">\n",
       "      <th></th>\n",
       "      <th>year</th>\n",
       "      <th>status_label</th>\n",
       "      <th>ZX1</th>\n",
       "      <th>ZX2</th>\n",
       "      <th>ZX3</th>\n",
       "      <th>ZX4</th>\n",
       "      <th>ZX5</th>\n",
       "      <th>Z</th>\n",
       "      <th>Z_pred</th>\n",
       "    </tr>\n",
       "  </thead>\n",
       "  <tbody>\n",
       "    <tr>\n",
       "      <th>56683</th>\n",
       "      <td>2017</td>\n",
       "      <td>alive</td>\n",
       "      <td>0.157928</td>\n",
       "      <td>-1.103828</td>\n",
       "      <td>0.100105</td>\n",
       "      <td>2.490247</td>\n",
       "      <td>0.505917</td>\n",
       "      <td>0.974568</td>\n",
       "      <td>1</td>\n",
       "    </tr>\n",
       "    <tr>\n",
       "      <th>16340</th>\n",
       "      <td>2000</td>\n",
       "      <td>alive</td>\n",
       "      <td>0.274760</td>\n",
       "      <td>0.172795</td>\n",
       "      <td>0.043170</td>\n",
       "      <td>0.922913</td>\n",
       "      <td>1.478186</td>\n",
       "      <td>2.746020</td>\n",
       "      <td>0</td>\n",
       "    </tr>\n",
       "    <tr>\n",
       "      <th>1910</th>\n",
       "      <td>2011</td>\n",
       "      <td>alive</td>\n",
       "      <td>0.198876</td>\n",
       "      <td>0.104602</td>\n",
       "      <td>0.210882</td>\n",
       "      <td>3.363780</td>\n",
       "      <td>0.736791</td>\n",
       "      <td>3.836064</td>\n",
       "      <td>0</td>\n",
       "    </tr>\n",
       "    <tr>\n",
       "      <th>11872</th>\n",
       "      <td>2005</td>\n",
       "      <td>alive</td>\n",
       "      <td>0.044529</td>\n",
       "      <td>0.181722</td>\n",
       "      <td>0.156070</td>\n",
       "      <td>2.867974</td>\n",
       "      <td>1.140494</td>\n",
       "      <td>3.684154</td>\n",
       "      <td>0</td>\n",
       "    </tr>\n",
       "    <tr>\n",
       "      <th>17235</th>\n",
       "      <td>2008</td>\n",
       "      <td>alive</td>\n",
       "      <td>0.002730</td>\n",
       "      <td>0.155273</td>\n",
       "      <td>0.072517</td>\n",
       "      <td>0.846041</td>\n",
       "      <td>0.354252</td>\n",
       "      <td>1.321843</td>\n",
       "      <td>1</td>\n",
       "    </tr>\n",
       "  </tbody>\n",
       "</table>\n",
       "</div>"
      ],
      "text/plain": [
       "       year status_label       ZX1       ZX2       ZX3       ZX4       ZX5  \\\n",
       "56683  2017        alive  0.157928 -1.103828  0.100105  2.490247  0.505917   \n",
       "16340  2000        alive  0.274760  0.172795  0.043170  0.922913  1.478186   \n",
       "1910   2011        alive  0.198876  0.104602  0.210882  3.363780  0.736791   \n",
       "11872  2005        alive  0.044529  0.181722  0.156070  2.867974  1.140494   \n",
       "17235  2008        alive  0.002730  0.155273  0.072517  0.846041  0.354252   \n",
       "\n",
       "              Z  Z_pred  \n",
       "56683  0.974568       1  \n",
       "16340  2.746020       0  \n",
       "1910   3.836064       0  \n",
       "11872  3.684154       0  \n",
       "17235  1.321843       1  "
      ]
     },
     "execution_count": 47,
     "metadata": {},
     "output_type": "execute_result"
    },
    {
     "name": "stdout",
     "output_type": "stream",
     "text": [
      "Classification Report of Z-Score Model:\n",
      "               precision    recall  f1-score   support\n",
      "\n",
      "           0       0.96      0.65      0.77     14678\n",
      "           1       0.11      0.58      0.18      1059\n",
      "\n",
      "    accuracy                           0.64     15737\n",
      "   macro avg       0.53      0.62      0.48     15737\n",
      "weighted avg       0.90      0.64      0.73     15737\n",
      "\n"
     ]
    },
    {
     "data": {
      "text/plain": [
       "<Axes: >"
      ]
     },
     "execution_count": 47,
     "metadata": {},
     "output_type": "execute_result"
    },
    {
     "data": {
      "image/png": "[encoded data removed]",
      "text/plain": [
       "<Figure size 640x480 with 2 Axes>"
      ]
     },
     "metadata": {},
     "output_type": "display_data"
    }
   ],
   "source": [
    "df_test = pd.concat([X_test, y_test], axis=1)\n",
    "# Use the same indexes as in test set and apply to this new modified dataset\n",
    "df2_test = df2.loc[df_test.index]\n",
    "\n",
    "# assume grey and low risk is alive, high risk is failed\n",
    "df2_test['Z_pred'].value_counts()\n",
    "\n",
    "# Convert true y values to 0 and 1\n",
    "true_y = df2_test[\"status_label\"].map({\"alive\": 0, \"failed\": 1})\n",
    "\n",
    "df2_test.head()\n",
    "print(\"Classification Report of Z-Score Model:\\n\", classification_report(true_y, df2_test['Z_pred']))\n",
    "sns.heatmap(confusion_matrix(true_y, df2_test['Z_pred']),\n",
    "                   annot = True, fmt=\".0f\", annot_kws={\"size\": 18})"
   ]
  },
  {
   "cell_type": "markdown",
   "id": "22478e89",
   "metadata": {},
   "source": [
    "## Assuming 'Grey' Zone is Failed"
   ]
  },
  {
   "cell_type": "code",
   "execution_count": 48,
   "id": "7e1ff2da",
   "metadata": {},
   "outputs": [
    {
     "data": {
      "text/html": [
       "<div>\n",
       "<style scoped>\n",
       "    .dataframe tbody tr th:only-of-type {\n",
       "        vertical-align: middle;\n",
       "    }\n",
       "\n",
       "    .dataframe tbody tr th {\n",
       "        vertical-align: top;\n",
       "    }\n",
       "\n",
       "    .dataframe thead th {\n",
       "        text-align: right;\n",
       "    }\n",
       "</style>\n",
       "<table border=\"1\" class=\"dataframe\">\n",
       "  <thead>\n",
       "    <tr style=\"text-align: right;\">\n",
       "      <th></th>\n",
       "      <th>year</th>\n",
       "      <th>status_label</th>\n",
       "      <th>ZX1</th>\n",
       "      <th>ZX2</th>\n",
       "      <th>ZX3</th>\n",
       "      <th>ZX4</th>\n",
       "      <th>ZX5</th>\n",
       "      <th>Z</th>\n",
       "      <th>Z_pred</th>\n",
       "    </tr>\n",
       "  </thead>\n",
       "  <tbody>\n",
       "    <tr>\n",
       "      <th>0</th>\n",
       "      <td>1999</td>\n",
       "      <td>alive</td>\n",
       "      <td>0.468896</td>\n",
       "      <td>0.271291</td>\n",
       "      <td>0.095355</td>\n",
       "      <td>0.928438</td>\n",
       "      <td>1.382369</td>\n",
       "      <td>3.196587</td>\n",
       "      <td>Low</td>\n",
       "    </tr>\n",
       "    <tr>\n",
       "      <th>1</th>\n",
       "      <td>2000</td>\n",
       "      <td>alive</td>\n",
       "      <td>0.513588</td>\n",
       "      <td>0.290751</td>\n",
       "      <td>0.065241</td>\n",
       "      <td>1.042794</td>\n",
       "      <td>1.245637</td>\n",
       "      <td>3.109968</td>\n",
       "      <td>Low</td>\n",
       "    </tr>\n",
       "    <tr>\n",
       "      <th>2</th>\n",
       "      <td>2001</td>\n",
       "      <td>alive</td>\n",
       "      <td>0.402974</td>\n",
       "      <td>0.196569</td>\n",
       "      <td>0.006633</td>\n",
       "      <td>0.911564</td>\n",
       "      <td>0.899355</td>\n",
       "      <td>2.226949</td>\n",
       "      <td>Grey</td>\n",
       "    </tr>\n",
       "    <tr>\n",
       "      <th>3</th>\n",
       "      <td>2002</td>\n",
       "      <td>alive</td>\n",
       "      <td>0.280849</td>\n",
       "      <td>0.180749</td>\n",
       "      <td>0.005204</td>\n",
       "      <td>0.365979</td>\n",
       "      <td>0.883074</td>\n",
       "      <td>1.709901</td>\n",
       "      <td>High</td>\n",
       "    </tr>\n",
       "    <tr>\n",
       "      <th>4</th>\n",
       "      <td>2003</td>\n",
       "      <td>alive</td>\n",
       "      <td>0.424286</td>\n",
       "      <td>0.185938</td>\n",
       "      <td>0.029341</td>\n",
       "      <td>0.757853</td>\n",
       "      <td>0.919167</td>\n",
       "      <td>2.240159</td>\n",
       "      <td>Grey</td>\n",
       "    </tr>\n",
       "  </tbody>\n",
       "</table>\n",
       "</div>"
      ],
      "text/plain": [
       "   year status_label       ZX1       ZX2       ZX3       ZX4       ZX5  \\\n",
       "0  1999        alive  0.468896  0.271291  0.095355  0.928438  1.382369   \n",
       "1  2000        alive  0.513588  0.290751  0.065241  1.042794  1.245637   \n",
       "2  2001        alive  0.402974  0.196569  0.006633  0.911564  0.899355   \n",
       "3  2002        alive  0.280849  0.180749  0.005204  0.365979  0.883074   \n",
       "4  2003        alive  0.424286  0.185938  0.029341  0.757853  0.919167   \n",
       "\n",
       "          Z Z_pred  \n",
       "0  3.196587    Low  \n",
       "1  3.109968    Low  \n",
       "2  2.226949   Grey  \n",
       "3  1.709901   High  \n",
       "4  2.240159   Grey  "
      ]
     },
     "execution_count": 48,
     "metadata": {},
     "output_type": "execute_result"
    },
    {
     "data": {
      "text/plain": [
       "Z_pred\n",
       "Low     36479\n",
       "High    28667\n",
       "Grey    13536\n",
       "Name: count, dtype: int64"
      ]
     },
     "execution_count": 48,
     "metadata": {},
     "output_type": "execute_result"
    }
   ],
   "source": [
    "df2 = pd.read_csv(\"american_bankruptcy.csv\")\n",
    "df2['ZX1'] = (df2[\"X1\"] - df2[\"X14\"]) / df2[\"X10\"] # (Current Assets - Current Liabilities) / Total Assets\n",
    "df2['ZX2'] = df2['X15']/df2['X10'] # Retained Earnings / Total Assets\n",
    "df2['ZX3'] = df2[\"X12\"]/df2['X10'] # EBIT / Total Assets\n",
    "df2['ZX4'] = df2['X8']/df2['X17'] # Market Captitalization / Total Liabilities\n",
    "df2['ZX5'] = df2['X9']/df2['X10'] # Sales / Total Assets\n",
    "\n",
    "df2[\"Z\"] = 1.2*df2[\"ZX1\"] + 1.4*df2[\"ZX2\"] + 3.3*df2[\"ZX3\"] + 0.6*df2[\"ZX4\"] + 1*df2[\"ZX5\"]\n",
    "\n",
    "\n",
    "# Define conditions\n",
    "conditions = [\n",
    "    df2[\"Z\"] < 1.8,  # High risk\n",
    "    df2[\"Z\"] > 3.0   # Low risk\n",
    "]\n",
    "\n",
    "# Define corresponding labels\n",
    "labels = ['High', 'Low']\n",
    "\n",
    "# Create the column using np.select, with default as 'Grey'\n",
    "df2[\"Z_pred\"] = np.select(conditions, labels, default='Grey')\n",
    "\n",
    "# Remove unnecessary columns \n",
    "df2 = df2[[\"year\",\"status_label\",\"ZX1\",\"ZX2\",\"ZX3\",\"ZX4\",\"ZX5\",\"Z\",\"Z_pred\"]]\n",
    "df2.head()\n",
    "df2[\"Z_pred\"].value_counts()"
   ]
  },
  {
   "cell_type": "code",
   "execution_count": 49,
   "id": "0c78d7ad",
   "metadata": {},
   "outputs": [
    {
     "data": {
      "text/plain": [
       "Z_pred\n",
       "1    42203\n",
       "0    36479\n",
       "Name: count, dtype: int64"
      ]
     },
     "execution_count": 49,
     "metadata": {},
     "output_type": "execute_result"
    },
    {
     "name": "stdout",
     "output_type": "stream",
     "text": [
      "Classification Report of Z-Score Model:\n",
      "               precision    recall  f1-score   support\n",
      "\n",
      "           0       0.96      0.48      0.64     73462\n",
      "           1       0.09      0.72      0.16      5220\n",
      "\n",
      "    accuracy                           0.49     78682\n",
      "   macro avg       0.52      0.60      0.40     78682\n",
      "weighted avg       0.90      0.49      0.61     78682\n",
      "\n"
     ]
    },
    {
     "data": {
      "text/plain": [
       "<Axes: >"
      ]
     },
     "execution_count": 49,
     "metadata": {},
     "output_type": "execute_result"
    },
    {
     "data": {
      "image/png": "[encoded data removed]",
      "text/plain": [
       "<Figure size 640x480 with 2 Axes>"
      ]
     },
     "metadata": {},
     "output_type": "display_data"
    }
   ],
   "source": [
    "# assume grey and low risk is alive, high risk is failed\n",
    "df2['Z_pred'] = df2['Z_pred'].apply(lambda x: 0 if x == 'Low' else 1)\n",
    "\n",
    "# See class distribution\n",
    "df2['Z_pred'].value_counts()\n",
    "\n",
    "# Convert true y values to 0 and 1\n",
    "true_y = df2[\"status_label\"].map({\"alive\": 0, \"failed\": 1})\n",
    "print(\"Classification Report of Z-Score Model:\\n\", classification_report(true_y, df2['Z_pred']))\n",
    "sns.heatmap(confusion_matrix(true_y, df2['Z_pred']),\n",
    "                   annot = True, fmt=\".0f\", annot_kws={\"size\": 18})"
   ]
  },
  {
   "cell_type": "code",
   "execution_count": 50,
   "id": "6f186d03",
   "metadata": {},
   "outputs": [
    {
     "data": {
      "text/plain": [
       "Z_pred\n",
       "1    8481\n",
       "0    7256\n",
       "Name: count, dtype: int64"
      ]
     },
     "execution_count": 50,
     "metadata": {},
     "output_type": "execute_result"
    },
    {
     "data": {
      "text/html": [
       "<div>\n",
       "<style scoped>\n",
       "    .dataframe tbody tr th:only-of-type {\n",
       "        vertical-align: middle;\n",
       "    }\n",
       "\n",
       "    .dataframe tbody tr th {\n",
       "        vertical-align: top;\n",
       "    }\n",
       "\n",
       "    .dataframe thead th {\n",
       "        text-align: right;\n",
       "    }\n",
       "</style>\n",
       "<table border=\"1\" class=\"dataframe\">\n",
       "  <thead>\n",
       "    <tr style=\"text-align: right;\">\n",
       "      <th></th>\n",
       "      <th>year</th>\n",
       "      <th>status_label</th>\n",
       "      <th>ZX1</th>\n",
       "      <th>ZX2</th>\n",
       "      <th>ZX3</th>\n",
       "      <th>ZX4</th>\n",
       "      <th>ZX5</th>\n",
       "      <th>Z</th>\n",
       "      <th>Z_pred</th>\n",
       "    </tr>\n",
       "  </thead>\n",
       "  <tbody>\n",
       "    <tr>\n",
       "      <th>56683</th>\n",
       "      <td>2017</td>\n",
       "      <td>alive</td>\n",
       "      <td>0.157928</td>\n",
       "      <td>-1.103828</td>\n",
       "      <td>0.100105</td>\n",
       "      <td>2.490247</td>\n",
       "      <td>0.505917</td>\n",
       "      <td>0.974568</td>\n",
       "      <td>1</td>\n",
       "    </tr>\n",
       "    <tr>\n",
       "      <th>16340</th>\n",
       "      <td>2000</td>\n",
       "      <td>alive</td>\n",
       "      <td>0.274760</td>\n",
       "      <td>0.172795</td>\n",
       "      <td>0.043170</td>\n",
       "      <td>0.922913</td>\n",
       "      <td>1.478186</td>\n",
       "      <td>2.746020</td>\n",
       "      <td>1</td>\n",
       "    </tr>\n",
       "    <tr>\n",
       "      <th>1910</th>\n",
       "      <td>2011</td>\n",
       "      <td>alive</td>\n",
       "      <td>0.198876</td>\n",
       "      <td>0.104602</td>\n",
       "      <td>0.210882</td>\n",
       "      <td>3.363780</td>\n",
       "      <td>0.736791</td>\n",
       "      <td>3.836064</td>\n",
       "      <td>0</td>\n",
       "    </tr>\n",
       "    <tr>\n",
       "      <th>11872</th>\n",
       "      <td>2005</td>\n",
       "      <td>alive</td>\n",
       "      <td>0.044529</td>\n",
       "      <td>0.181722</td>\n",
       "      <td>0.156070</td>\n",
       "      <td>2.867974</td>\n",
       "      <td>1.140494</td>\n",
       "      <td>3.684154</td>\n",
       "      <td>0</td>\n",
       "    </tr>\n",
       "    <tr>\n",
       "      <th>17235</th>\n",
       "      <td>2008</td>\n",
       "      <td>alive</td>\n",
       "      <td>0.002730</td>\n",
       "      <td>0.155273</td>\n",
       "      <td>0.072517</td>\n",
       "      <td>0.846041</td>\n",
       "      <td>0.354252</td>\n",
       "      <td>1.321843</td>\n",
       "      <td>1</td>\n",
       "    </tr>\n",
       "  </tbody>\n",
       "</table>\n",
       "</div>"
      ],
      "text/plain": [
       "       year status_label       ZX1       ZX2       ZX3       ZX4       ZX5  \\\n",
       "56683  2017        alive  0.157928 -1.103828  0.100105  2.490247  0.505917   \n",
       "16340  2000        alive  0.274760  0.172795  0.043170  0.922913  1.478186   \n",
       "1910   2011        alive  0.198876  0.104602  0.210882  3.363780  0.736791   \n",
       "11872  2005        alive  0.044529  0.181722  0.156070  2.867974  1.140494   \n",
       "17235  2008        alive  0.002730  0.155273  0.072517  0.846041  0.354252   \n",
       "\n",
       "              Z  Z_pred  \n",
       "56683  0.974568       1  \n",
       "16340  2.746020       1  \n",
       "1910   3.836064       0  \n",
       "11872  3.684154       0  \n",
       "17235  1.321843       1  "
      ]
     },
     "execution_count": 50,
     "metadata": {},
     "output_type": "execute_result"
    },
    {
     "name": "stdout",
     "output_type": "stream",
     "text": [
      "Classification Report of Z-Score Model:\n",
      "               precision    recall  f1-score   support\n",
      "\n",
      "           0       0.96      0.47      0.64     14678\n",
      "           1       0.09      0.73      0.16      1059\n",
      "\n",
      "    accuracy                           0.49     15737\n",
      "   macro avg       0.53      0.60      0.40     15737\n",
      "weighted avg       0.90      0.49      0.60     15737\n",
      "\n"
     ]
    },
    {
     "data": {
      "text/plain": [
       "<Axes: >"
      ]
     },
     "execution_count": 50,
     "metadata": {},
     "output_type": "execute_result"
    },
    {
     "data": {
      "image/png": "[encoded data removed]",
      "text/plain": [
       "<Figure size 640x480 with 2 Axes>"
      ]
     },
     "metadata": {},
     "output_type": "display_data"
    }
   ],
   "source": [
    "# Use the same indexes as in test set and apply to this new modified dataset\n",
    "df2_test = df2.loc[df_test.index]\n",
    "\n",
    "# assume grey and low risk is alive, high risk is failed\n",
    "df2_test['Z_pred'].value_counts()\n",
    "\n",
    "# Convert true y values to 0 and 1\n",
    "true_y = df2_test[\"status_label\"].map({\"alive\": 0, \"failed\": 1})\n",
    "\n",
    "df2_test.head()\n",
    "print(\"Classification Report of Z-Score Model:\\n\", classification_report(true_y, df2_test['Z_pred']))\n",
    "sns.heatmap(confusion_matrix(true_y, df2_test['Z_pred']),\n",
    "                   annot = True, fmt=\".0f\", annot_kws={\"size\": 18})"
   ]
  }
 ],
 "metadata": {
  "kernelspec": {
   "display_name": "Python 3 (ipykernel)",
   "language": "python",
   "name": "python3"
  },
  "language_info": {
   "codemirror_mode": {
    "name": "ipython",
    "version": 3
   },
   "file_extension": ".py",
   "mimetype": "text/x-python",
   "name": "python",
   "nbconvert_exporter": "python",
   "pygments_lexer": "ipython3",
   "version": "3.11.4"
  }
 },
 "nbformat": 4,
 "nbformat_minor": 5
}
